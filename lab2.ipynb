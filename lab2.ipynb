{
  "cells": [
    {
      "cell_type": "markdown",
      "metadata": {
        "id": "view-in-github",
        "colab_type": "text"
      },
      "source": [
        "<a href=\"https://colab.research.google.com/github/ColemanHaley/anlp_labs/blob/main/lab2.ipynb\" target=\"_parent\"><img src=\"https://colab.research.google.com/assets/colab-badge.svg\" alt=\"Open In Colab\"/></a>"
      ]
    },
    {
      "cell_type": "markdown",
      "id": "fcb1b3c7",
      "metadata": {
        "id": "fcb1b3c7"
      },
      "source": [
        "# Lab 2: Language Identification with n-gram models\n",
        "\n"
      ]
    },
    {
      "cell_type": "markdown",
      "id": "fa2842e3",
      "metadata": {
        "id": "fa2842e3"
      },
      "source": [
        "## Warm-up: Inspecting an n-gram model\n",
        "First, let's look at an n-gram model we've already trained on some secret data (in the file `./secret.model`).\n",
        "Each line of this file lists three characters followed by a tab and a number. The number represents\n",
        "the model’s estimated probability of the third character given the previous two. For example,\n",
        "one of the lines looks like this (where `\\t` is a tab character):\n",
        "\n",
        "`xyz\\t2.000e-02`\n",
        "\n",
        "Take a look at the probabilities. Can you tell if the model uses smoothing? If it does, can you tell what kind it is? How can you tell? Do you think this model is for English, or another language, and again, how can you tell?"
      ]
    },
    {
      "cell_type": "markdown",
      "id": "d3ebce01",
      "metadata": {
        "id": "d3ebce01"
      },
      "source": [
        "## 1. Loading and preprocessing data\n",
        "Now, you'll get to work building n-gram models for our language identification task. We've put the data for this lab on the HuggingFace Hub again, so let's download it."
      ]
    },
    {
      "cell_type": "code",
      "execution_count": null,
      "id": "ed475497",
      "metadata": {
        "colab": {
          "base_uri": "https://localhost:8080/",
          "height": 209,
          "referenced_widgets": [
            "16f99dbb16ac4979b25dc3e75e740aee",
            "0e10342d053e477a8e9237628ecafc51",
            "493513dcf43f4cd4a719242a32fcfa14",
            "76ce5bde97cf40c7a6293d6403fb44ae",
            "22844082c5a44360a578ee016ab3dd59",
            "1595ac3f7d014872a7331a65c600a569",
            "f14b409bf44b443ba080c92afd91370d",
            "05fa3f9d6cde45d49b40a1769d9d8cd4",
            "77df721961d34483931d8eccaf9e828f",
            "bacd88e12a154ff1933a95df82e26fd3",
            "964c3da5cb5c4b098ba95e08f80107c4",
            "00cb3a4569f94e688a81c454162486f0",
            "48c211d27c074633a1e98b521576b34e",
            "9e3a4ce0c7484e40acd906a850e64c3a",
            "6a6511df0e6944f594289fe6f0efc8f0",
            "11e5781316684831b4ad7868b7f36111",
            "a17d68b43e3440c28b3ba15598b3c127",
            "208ea92dcc0a4bef8156fd09743f8f3d",
            "e98706c51ec64800866c36dfe79cfbd0",
            "d95cca3933ca45fb8a5678f80d73f620",
            "dc9d7adf480545f7a7c1ac00d8b2edd9",
            "ef345f91ad6f44c08e98bc7136abd594",
            "a02874e54a564d28b7ff38dcb595247e",
            "ebdbeafe6fd94d16b606011f5b269335",
            "3f3273bd9c2a423f9529092c2a0b249f",
            "1500f75a8c7441fea2171c1c4eb4b1c3",
            "ba666e3212494a31bd3f86c5b2fa00e0",
            "ca5a650013c948c68c60b4c49705f2a7",
            "bb98f557a4894484a9b5b2a40881779e",
            "a91e06e3b94549afbfd3fe517eda6a21",
            "ea7c6ed8c567437ea8b1b21bd1b773a8",
            "0c7615c8f70b46fdacb06e4f5ae908a5",
            "0e68fa0c6c474673bffb6e9ba4914093",
            "cee81a8efe6a4490ba15f37e80801e82",
            "4e6ec2eb4b2f49ad8d08aea7f87bd945",
            "b38dfe2a8e3f42ca962b3d420f1dc869",
            "8534723412f5484d9d52664882becf6a",
            "0c12ff6ada284815a8519674d8bf122b",
            "949fb8d08bb04c8ba92d27a9202ab06a",
            "bddc88b501d5487fabf903147ff09b74",
            "2a925d3a42804f5b91dcedcfdc0e66fe",
            "9de8740e9c2a46af8339a0e468d22513",
            "e5ea55e9323746ec9d75790ddcaba6f1",
            "e06fe2392c6e4319b2c8ba1c1df8135f",
            "0d78654a62e242b0816db38507f7c1a6",
            "57cff4db450e41598144af47bc85f19b",
            "552db5a8bcc34101ab00c71c6aed0a39",
            "351bd127015e47a7a1751e989f7b2991",
            "f6db408f9ae7486a8b55f25b12421594",
            "6d8c1247eb6247f6abe642c654732098",
            "551d3e06803b47ecabe849d45e331eb5",
            "fed606aed7b4426ebf7d03d7726818fd",
            "8a139dbb21d14776a52f8155be649833",
            "8c73d29ad1a04711b7e9289023016152",
            "15f0bf650b0843388567fef52968a8c9",
            "9439d4e93e61498798191a1afa3658dd",
            "91d2f6be9d314428aab8d1d9b5fd1e73",
            "69731e6217174413b955a630b0fe699d",
            "90da52cc28964b3c961e361c2c93a469",
            "43ad160eb3fa44ea9906db9b675095e9",
            "61bf8f5abcbc4771898d59d62bcf4cb7",
            "812221895e004a4a9d734df128af6b26",
            "23c68e9eeb304f3aa0cda7af73b1d195",
            "dcb2daf202224da1a7710e73da44e69f",
            "8bb5fd3bf0f64c318e9e9cbbbbc89719",
            "07ff8e9965a549baad6558a6f5e1c1b0"
          ]
        },
        "id": "ed475497",
        "outputId": "0376074c-c4fe-4dbc-b44a-851faf92dc32"
      },
      "outputs": [
        {
          "output_type": "display_data",
          "data": {
            "text/plain": [
              "eng2.txt: 0.00B [00:00, ?B/s]"
            ],
            "application/vnd.jupyter.widget-view+json": {
              "version_major": 2,
              "version_minor": 0,
              "model_id": "16f99dbb16ac4979b25dc3e75e740aee"
            }
          },
          "metadata": {}
        },
        {
          "output_type": "display_data",
          "data": {
            "text/plain": [
              "Generating train split:   0%|          | 0/10000 [00:00<?, ? examples/s]"
            ],
            "application/vnd.jupyter.widget-view+json": {
              "version_major": 2,
              "version_minor": 0,
              "model_id": "00cb3a4569f94e688a81c454162486f0"
            }
          },
          "metadata": {}
        },
        {
          "output_type": "display_data",
          "data": {
            "text/plain": [
              "xho2.txt: 0.00B [00:00, ?B/s]"
            ],
            "application/vnd.jupyter.widget-view+json": {
              "version_major": 2,
              "version_minor": 0,
              "model_id": "a02874e54a564d28b7ff38dcb595247e"
            }
          },
          "metadata": {}
        },
        {
          "output_type": "display_data",
          "data": {
            "text/plain": [
              "Generating train split:   0%|          | 0/10000 [00:00<?, ? examples/s]"
            ],
            "application/vnd.jupyter.widget-view+json": {
              "version_major": 2,
              "version_minor": 0,
              "model_id": "cee81a8efe6a4490ba15f37e80801e82"
            }
          },
          "metadata": {}
        },
        {
          "output_type": "display_data",
          "data": {
            "text/plain": [
              "afr2.txt: 0.00B [00:00, ?B/s]"
            ],
            "application/vnd.jupyter.widget-view+json": {
              "version_major": 2,
              "version_minor": 0,
              "model_id": "0d78654a62e242b0816db38507f7c1a6"
            }
          },
          "metadata": {}
        },
        {
          "output_type": "display_data",
          "data": {
            "text/plain": [
              "Generating train split:   0%|          | 0/10000 [00:00<?, ? examples/s]"
            ],
            "application/vnd.jupyter.widget-view+json": {
              "version_major": 2,
              "version_minor": 0,
              "model_id": "9439d4e93e61498798191a1afa3658dd"
            }
          },
          "metadata": {}
        }
      ],
      "source": [
        "#!pip install -U datasets\n",
        "from datasets import load_dataset\n",
        "\n",
        "# Our variable names are based on the ISO 639-3 language codes for the languages in the dataset.\n",
        "# These are common language codes used in NLP, but you may also see two-character ISO 639-1 codes commonly.\n",
        "# However, ISO 639-3 is more comprehensive and includes many languages not covered by the two-character codes!\n",
        "eng = load_dataset('EdinburghNLP/south-african-lang-id', 'english')['train']\n",
        "xho = load_dataset('EdinburghNLP/south-african-lang-id', 'xhosa')['train']\n",
        "afr = load_dataset('EdinburghNLP/south-african-lang-id', 'afrikaans')['train']\n",
        "\n",
        "\n",
        "# By using a dictionary, you can associate each dataset with its language code.\n",
        "# Do you see why we use the code as the key and not the dataset itself?\n",
        "# This allows to write code that can operate on any number of languages without changing the code structure.\n",
        "# And it makes it easy to keep track of which dataset corresponds to which language.\n",
        "# This is a common pattern in NLP and other data processing tasks.\n",
        "corpora = {'eng': eng, 'xho': xho, 'afr': afr}"
      ]
    },
    {
      "cell_type": "markdown",
      "id": "565bbb49",
      "metadata": {
        "id": "565bbb49"
      },
      "source": [
        "In this lab, you'll be training models, adjusting hyperparameters, and evaluating them. To evaluate your changes and avoid over-fitting, you'll use the *train--dev--test* splitting paradigm we discussed in class. We have already held out some separate data for testing, but you'll have to split the training data from HuggingFace into \"train\" and \"development\" splits. The `datasets` library implements this for us:"
      ]
    },
    {
      "cell_type": "code",
      "execution_count": null,
      "id": "39e8ae91",
      "metadata": {
        "id": "39e8ae91",
        "outputId": "d590e6e8-89c1-4f19-be1d-d8a4bc2624af"
      },
      "outputs": [
        {
          "ename": "AttributeError",
          "evalue": "'DatasetDict' object has no attribute 'train_test_split'",
          "output_type": "error",
          "traceback": [
            "\u001b[31m---------------------------------------------------------------------------\u001b[39m",
            "\u001b[31mAttributeError\u001b[39m                            Traceback (most recent call last)",
            "\u001b[36mCell\u001b[39m\u001b[36m \u001b[39m\u001b[32mIn[170]\u001b[39m\u001b[32m, line 2\u001b[39m\n\u001b[32m      1\u001b[39m corpora = {\n\u001b[32m----> \u001b[39m\u001b[32m2\u001b[39m     lang: \u001b[43mdataset\u001b[49m\u001b[43m.\u001b[49m\u001b[43mtrain_test_split\u001b[49m(test_size=\u001b[32m0.5\u001b[39m) \u001b[38;5;66;03m# this puts 10% of the data into a \"test\" set (which we will use for development)\u001b[39;00m\n\u001b[32m      3\u001b[39m     \u001b[38;5;28;01mfor\u001b[39;00m lang, dataset \u001b[38;5;129;01min\u001b[39;00m corpora.items() \u001b[38;5;66;03m# see how organizing the data in a dictionary allows us to write less code?\u001b[39;00m\n\u001b[32m      4\u001b[39m }\n",
            "\u001b[31mAttributeError\u001b[39m: 'DatasetDict' object has no attribute 'train_test_split'"
          ]
        }
      ],
      "source": [
        "corpora = {\n",
        "    lang: dataset.train_test_split(test_size=0.1) # this puts 10% of the data into a \"test\" set (which we will use for development)\n",
        "    for lang, dataset in corpora.items() # see how organizing the data in a dictionary allows us to write less code?\n",
        "}"
      ]
    },
    {
      "cell_type": "code",
      "execution_count": null,
      "id": "5e985ed2",
      "metadata": {
        "id": "5e985ed2"
      },
      "outputs": [],
      "source": [
        "# Let's take a quick look at the data.\n",
        "# Each dataset contains a 'train' and 'test' (dev) split.\n",
        "for lang, dataset in corpora.items():\n",
        "    # TODO: Print some lines from the training set of each language!\n",
        "    pass # Replace this with your code."
      ]
    },
    {
      "cell_type": "markdown",
      "id": "3c410d68",
      "metadata": {
        "id": "3c410d68"
      },
      "source": [
        "If we directly train models on this data and try to evaluate their perplexity on held out data, we might encounter errors. This is because in realistic data, there may be rare characters that we don't see in training. We want our code to generalize to unseen characters, so we can still assign probabilities to sequences that contain them. Many of today's large language models achieve this by training their tokenizers at the *byte*, rather than the *character* level. A byte is an eight-digit binary number (eight bits of either 0 or 1). Most text today is encoded in UTF-8 (often referred to as Unicode). In Unicode, a character can consist of 1 or more bytes. For example, lets look at the Unicode representation of a few characters:"
      ]
    },
    {
      "cell_type": "code",
      "execution_count": null,
      "id": "ea3d2d74",
      "metadata": {
        "id": "ea3d2d74",
        "outputId": "b90a304f-1484-443a-b695-95201ffd3b87"
      },
      "outputs": [
        {
          "name": "stdout",
          "output_type": "stream",
          "text": [
            "1100001\n",
            "100100010101\n"
          ]
        }
      ],
      "source": [
        "# Unicode characters can be represented by one or more bytes.\n",
        "# Convert the character 'a' to its byte representation (as a string of 0s and 1s)\n",
        "print(format(ord('a'), 'b')) # b means to format as a binary number\n",
        "print(format(ord('क'), 'b')) # notice that this Devangari character  is represented by more than one byte!\n"
      ]
    },
    {
      "cell_type": "markdown",
      "id": "a3ff4ac5",
      "metadata": {
        "id": "a3ff4ac5"
      },
      "source": [
        "Because there are only 256 ($2^8$) possible bytes, a BPE tokenizer over bytes can represent any character in the Unicode standard. However, this is not always an equitable representation. Some writing systems have more multi-byte characters. For a language like Hindi (written in Devangari script), this means an equivalent text takes about 2x as many bytes to encode in Unicode ([Arnett et al. 2024](https://arxiv.org/pdf/2403.00686)). This makes models like ChatGPT, which charge users per-token, more expensive and slower for a language like Hindi. Better ways of representing all the world's characters in a single model are an area of active research in NLP.\n",
        "\n",
        "In this lab, we will use a simpler method to make our model open-vocabulary. We will replace rare and unseen characters with a shared unknown character: `�` (the Unicode character for an unknown character). This both allows our model to assign some probability to unseen characters, and prevents it to overfitting to rare characters which are coincidentally only present in one of the corpora. **What does this imply about our representation of rare characters? How is it similar to add alpha smoothing?**\n",
        "\n",
        "Some languages do contain characters that don't occur in others! For instance, English doesn't use `क`, `ã` or `角`. Do you think an English n-gram model *should* assign zero probability to strings containing these characters? Why or why not? Can you think of any contexts where they might appear in English text?\n",
        "\n",
        "To implement our method, we'll first need to identify rare characters:"
      ]
    },
    {
      "cell_type": "code",
      "execution_count": null,
      "id": "51ee13ec",
      "metadata": {
        "id": "51ee13ec"
      },
      "outputs": [],
      "source": [
        "from collections import Counter\n",
        "\n",
        "# find most frequent characters which are not all three text files\n",
        "def find_rare_chars(corpora, threshold=500):\n",
        "    # count character frequencies in each corpus\n",
        "    counters  = []\n",
        "    for _, corpus in corpora.items():\n",
        "        counts = Counter()\n",
        "        for text in corpus['train']:\n",
        "            counts.update(text['text'])\n",
        "        counters.append(counts)\n",
        "\n",
        "    all_chars = set([char for counter in counters for char in counter.keys()])\n",
        "\n",
        "    # characters that occur less than 500 times across all three texts:\n",
        "    rare_chars = [char for char in all_chars if sum([freq[char] for freq in counters]) < threshold]\n",
        "    return ''.join(rare_chars)"
      ]
    },
    {
      "cell_type": "code",
      "execution_count": null,
      "id": "fbde31dd",
      "metadata": {
        "id": "fbde31dd",
        "outputId": "0753bbc5-7bc7-46ee-dc92-616ee3d39069"
      },
      "outputs": [
        {
          "name": "stdout",
          "output_type": "stream",
          "text": [
            "ÓÔã¢®²àñ$ğÃÏ+íÊźûŭ_ôØ”\\Â¹ūü £â±úáÆºčË³•Éć—÷Èò`‘[«¾öÖµó]©èçŞ€“Ł°–﻿Á#ù…\n"
          ]
        }
      ],
      "source": [
        "# now let's look at the rare characters. do you think any of these characters shouldn't be replaced with the unknown character?\n",
        "rare_chars = find_rare_chars(corpora)\n",
        "print(rare_chars)"
      ]
    },
    {
      "cell_type": "code",
      "execution_count": null,
      "id": "0794b565",
      "metadata": {
        "id": "0794b565",
        "outputId": "1c3c10e1-54fa-47d5-ef61-e1ba9dcee06b"
      },
      "outputs": [
        {
          "name": "stderr",
          "output_type": "stream",
          "text": [
            "Map: 100%|██████████| 160355/160355 [00:41<00:00, 3829.54 examples/s]\n",
            "Map: 100%|██████████| 17818/17818 [00:03<00:00, 4950.10 examples/s]\n",
            "Map: 100%|██████████| 112344/112344 [00:37<00:00, 3034.51 examples/s]\n",
            "Map: 100%|██████████| 12483/12483 [00:02<00:00, 4593.83 examples/s]\n",
            "Map: 100%|██████████| 152452/152452 [00:32<00:00, 4708.61 examples/s]\n",
            "Map: 100%|██████████| 16940/16940 [00:05<00:00, 3292.01 examples/s]\n"
          ]
        }
      ],
      "source": [
        "# Now, we will actually replace the rare characters with the unknown character using a regular expression. (You'll learn more about these in CPSLP if you're taking it!)\n",
        "import re\n",
        "corpora = {\n",
        "\tlang: corpus.map(\n",
        "\t\tlambda x: {'text': re.sub(f\"[{re.escape(rare_chars)}]\", '�', x['text'])}, # This regular expression identifies any character in rare_chars so we can replace it with the unknown character\n",
        "\t\t#batched=True\n",
        "\t)\n",
        "\tfor lang, corpus in corpora.items()\n",
        "}"
      ]
    },
    {
      "cell_type": "markdown",
      "id": "58f8d660",
      "metadata": {
        "id": "58f8d660"
      },
      "source": [
        "## 2. Training n-gram models\n",
        "Now that we've preprocessed our corpora, it's time to train our n-gram model. We've written it so that our model works for different values of $N$. It also implements add-alpha smoothing. Why do we need this, even after replacing unknown characters?"
      ]
    },
    {
      "cell_type": "code",
      "execution_count": null,
      "id": "b1c7f259",
      "metadata": {
        "id": "b1c7f259"
      },
      "outputs": [],
      "source": [
        "import math\n",
        "from collections import defaultdict, Counter\n",
        "from tqdm import tqdm\n",
        "\n",
        "class CharNGramLM:\n",
        "    def __init__(self, N=3, alpha=0.001):\n",
        "        self.N = N\n",
        "        self.alpha = alpha\n",
        "        # dictionary to hold counts of n-grams\n",
        "        # where keys are n-1 character tuples (context)\n",
        "        self.context_counts = defaultdict(Counter) # a defautltdict allows us to create a new Counter for each new n-1-gram automatically\n",
        "        self.vocab = set()\n",
        "\n",
        "    def train(self, corpus):\n",
        "        for sentence in tqdm(corpus):\n",
        "            # add start and end tokens\n",
        "            sentence = ['<s>'] * (self.N - 1) + list(sentence) + ['</s>']\n",
        "            # update the counts of each n-gram\n",
        "            for i in range(len(sentence) - self.N + 1):\n",
        "                context = tuple(sentence[i:i+self.N-1])\n",
        "                char = sentence[i+self.N-1]\n",
        "                self.context_counts[context][char] += 1\n",
        "                self.vocab.add(char)\n",
        "\n",
        "    def prob(self, context, char):\n",
        "        context = tuple(context)\n",
        "        counts = self.context_counts[context]\n",
        "        V = len(self.vocab)\n",
        "        return (counts[char] + self.alpha) / (sum(counts.values()) + self.alpha * V)\n",
        "\n",
        "\n",
        "    def score(self, sentence):\n",
        "        sentence = ['<s>'] * (self.N - 1) + list(sentence) + ['</s>']\n",
        "        # replace OOV characters with a placeholder\n",
        "        sentence = [char if char in self.vocab else '�' for char in sentence]\n",
        "        score = 0.0\n",
        "        for i in range(len(sentence) - self.N + 1):\n",
        "            context = tuple(sentence[i:i+self.N-1])\n",
        "            char = sentence[i+self.N-1]\n",
        "            score *= self.prob(context, char) # multiply together the probabilities of each n-gram\n",
        "        return score"
      ]
    },
    {
      "cell_type": "markdown",
      "id": "999b69e5",
      "metadata": {
        "id": "999b69e5"
      },
      "source": [
        "Now, let's test it out by training an English language model!"
      ]
    },
    {
      "cell_type": "code",
      "execution_count": null,
      "id": "0e956881",
      "metadata": {
        "id": "0e956881",
        "outputId": "3cbfc899-db8d-4c2b-a12d-04c7fde3c231"
      },
      "outputs": [
        {
          "name": "stderr",
          "output_type": "stream",
          "text": [
            "100%|██████████| 269966/269966 [00:07<00:00, 35918.34it/s]"
          ]
        },
        {
          "name": "stdout",
          "output_type": "stream",
          "text": [
            "0.0\n",
            "0.0\n",
            "True\n"
          ]
        },
        {
          "name": "stderr",
          "output_type": "stream",
          "text": [
            "\n"
          ]
        }
      ],
      "source": [
        "eng_lm = CharNGramLM(N=3)\n",
        "eng_lm.train(corpora['eng']['train']['text'])\n",
        "print(eng_lm.score('Hi'))\n",
        "print(eng_lm.score('I love natural language processing!'))\n",
        "print(eng_lm.score('Hi') == eng_lm.score('I love natural language processing!')) # this should be False, since the two sentences are different and one is more common"
      ]
    },
    {
      "cell_type": "markdown",
      "id": "9fa8e6ad",
      "metadata": {
        "id": "9fa8e6ad"
      },
      "source": [
        "Oh no! Our model seems to score all sentences with a probability of 0!! Why is this? This is because the n-gram probabilities are very small, so they *underflow*. This is a very common problem in NLP, and we solve it by computing negative *log-probabilities* instead of probabilities. Recall the following properties of logarithms:\n",
        "- $\\log (a\\cdot b) = \\log a + \\log b$\n",
        "- $\\log \\frac{a}{b} = \\log a - \\log b$\n",
        "\n",
        "Use them to modify the commented lines in `CharNGramLM` below to return scores as negative log-probabilities instead of probabilities:"
      ]
    },
    {
      "cell_type": "code",
      "execution_count": null,
      "id": "fbbfff10",
      "metadata": {
        "id": "fbbfff10"
      },
      "outputs": [],
      "source": [
        "import math\n",
        "from collections import defaultdict, Counter\n",
        "from tqdm import tqdm\n",
        "\n",
        "class CharNGramLM:\n",
        "    def __init__(self, N=3, alpha=0.001):\n",
        "        self.N = N\n",
        "        self.alpha = alpha\n",
        "        # dictionary to hold counts of n-grams\n",
        "        # where keys are n-1 character tuples (context)\n",
        "        self.context_counts = defaultdict(Counter) # a defautltdict allows us to create a new Counter for each new n-1-gram automatically\n",
        "        self.vocab = set()\n",
        "\n",
        "    def train(self, corpus):\n",
        "        for sentence in tqdm(corpus):\n",
        "            # add start and end tokens\n",
        "            sentence = ['<s>'] * (self.N - 1) + list(sentence) + ['</s>']\n",
        "            # update the counts of each n-gram\n",
        "            for i in range(len(sentence) - self.N + 1):\n",
        "                context = tuple(sentence[i:i+self.N-1])\n",
        "                char = sentence[i+self.N-1]\n",
        "                self.context_counts[context][char] += 1\n",
        "                self.vocab.add(char)\n",
        "\n",
        "    def prob(self, context, char):\n",
        "        context = tuple(context)\n",
        "        counts = self.context_counts[context]\n",
        "        V = len(self.vocab)\n",
        "        # return (counts[char] + self.alpha) / (sum(counts.values()) + self.alpha * V) # TODO: change this to return log-probabilities\n",
        "        return math.log((counts[char] + self.alpha)) - math.log((sum(counts.values()) + self.alpha * V))\n",
        "\n",
        "\n",
        "    def score(self, sentence):\n",
        "        sentence = ['<s>'] * (self.N - 1) + list(sentence) + ['</s>']\n",
        "        # replace OOV characters with a placeholder\n",
        "        sentence = [char if char in self.vocab else '�' for char in sentence]\n",
        "        score = 0.0\n",
        "        for i in range(len(sentence) - self.N + 1):\n",
        "            context = tuple(sentence[i:i+self.N-1])\n",
        "            char = sentence[i+self.N-1]\n",
        "            # score *= self.prob(context, char) # TODO: change this to return log-probabilites\n",
        "            score += self.prob(context, char)\n",
        "        return -score # TODO: don't forget to return the negative log-probability!"
      ]
    },
    {
      "cell_type": "markdown",
      "id": "05052442",
      "metadata": {
        "id": "05052442"
      },
      "source": [
        "Now we can train all our models and they should work!"
      ]
    },
    {
      "cell_type": "code",
      "execution_count": null,
      "id": "de4ab7b9",
      "metadata": {
        "id": "de4ab7b9",
        "outputId": "c184fc50-3693-40d1-ca8d-fde610777c11"
      },
      "outputs": [
        {
          "name": "stderr",
          "output_type": "stream",
          "text": [
            "100%|██████████| 160355/160355 [00:12<00:00, 12900.13it/s]\n",
            "100%|██████████| 112344/112344 [00:15<00:00, 7372.69it/s]\n",
            "100%|██████████| 152452/152452 [00:11<00:00, 13773.22it/s]"
          ]
        },
        {
          "name": "stdout",
          "output_type": "stream",
          "text": [
            "30.892811590165618\n",
            "103.50283379485677\n",
            "True\n"
          ]
        },
        {
          "name": "stderr",
          "output_type": "stream",
          "text": [
            "\n"
          ]
        }
      ],
      "source": [
        "# Now, let's train a character n-gram language model for each language.\n",
        "lms = {}\n",
        "for lang, corpus in corpora.items():\n",
        "    lm = CharNGramLM(N=3)\n",
        "    lm.train(corpus['train']['text'])\n",
        "    lms[lang] = lm\n",
        "\n",
        "# Now let's test the same thing with the English model again:\n",
        "print(lms['eng'].score('Hi'))\n",
        "print(lms['eng'].score('I love natural language processing!'))\n",
        "print(lms['eng'].score('Hi') < lms['eng'].score('I love natural language processing!')) # this should be True"
      ]
    },
    {
      "cell_type": "markdown",
      "id": "441654af",
      "metadata": {
        "id": "441654af"
      },
      "source": [
        "The idea of using an n-gram model for language identification is that if you compare the scores assigned by models trained on different languages, the lowest score (negative log prob.) should be obtained by the model trained on the language of the text. Let's test this with an example here:"
      ]
    },
    {
      "cell_type": "code",
      "execution_count": null,
      "id": "13227ea9",
      "metadata": {
        "id": "13227ea9",
        "outputId": "ffc91af5-cd95-46e5-9dd1-8b8ba643643f"
      },
      "outputs": [
        {
          "name": "stdout",
          "output_type": "stream",
          "text": [
            "Language: eng, Score: 103.50283379485677\n",
            "Language: xho, Score: 144.66064311281892\n",
            "Language: afr, Score: 148.49425753581366\n"
          ]
        }
      ],
      "source": [
        "for lang, lm in lms.items():\n",
        "    sentence = 'I love natural language processing!' # You can change this to any sentence you want to test!\n",
        "    print(f\"Language: {lang}, Score: {lm.score(sentence)}\")"
      ]
    },
    {
      "cell_type": "markdown",
      "id": "5f799161",
      "metadata": {
        "id": "5f799161"
      },
      "source": [
        "## 3. Generating from the model\n",
        "\n",
        "Even though we're using our n-gram models for language identification, they're still language models, so we can generate from them! Below, we've provided some code that implements greedy, top-$k$, and temperature-scaled decoding from the language model."
      ]
    },
    {
      "cell_type": "code",
      "execution_count": null,
      "id": "500e617a",
      "metadata": {
        "id": "500e617a"
      },
      "outputs": [],
      "source": [
        "import random\n",
        "def generate(model, max_len=100, top_k=3, temperature=1):\n",
        "    context = ['<s>'] * (model.N - 1)\n",
        "    result = []\n",
        "    for _ in range(max_len):\n",
        "        nlog_probs = []\n",
        "        chars = []\n",
        "        for c in model.vocab:\n",
        "            log_p = model.prob(context, c) / temperature\n",
        "            nlog_probs.append(-log_p)\n",
        "            chars.append(c)\n",
        "\n",
        "        if top_k > 0:\n",
        "            pairs = sorted(zip(chars, nlog_probs), key=lambda x: x[1])[:top_k]\n",
        "            print(pairs)\n",
        "            chars, nlog_probs = zip(*pairs)\n",
        "            probs = [math.exp(-log_p) for log_p in nlog_probs]\n",
        "        else:\n",
        "            exp_probs = [math.exp(-log_p) for log_p in nlog_probs]\n",
        "            total = sum(exp_probs)\n",
        "            probs = [p / total for p in exp_probs]\n",
        "\n",
        "        next_char = random.choices(chars, weights=probs if top_k > 0 else exp_probs)[0]\n",
        "        if next_char == '</s>':\n",
        "            break\n",
        "        result.append(next_char)\n",
        "        context = context[1:] + [next_char]\n",
        "    return ''.join(result)"
      ]
    },
    {
      "cell_type": "code",
      "execution_count": null,
      "id": "eb92195c",
      "metadata": {
        "id": "eb92195c",
        "outputId": "af4995c8-6e4e-4a23-b301-24761335809b"
      },
      "outputs": [
        {
          "name": "stdout",
          "output_type": "stream",
          "text": [
            "## Generating text for language: eng ##\n",
            "PUBLITY uppes afetelp\n",
            "FACILITIEWS (Deps.\n",
            "PUBLITELEP OCATIONTS\n",
            "Dons he Goveramosa\n",
            "The ef hate: \n",
            "## Generating text for language: xho ##\n",
            "Uthasa ezini wakubeleko , i-70 ba ngel ukuka iba .\n",
            "Asivelo lekli wemalisayina ngenziba kwizweni zazis\n",
            "Ufumaba kwaka aber tshans wengokungini akanye njek\n",
            "1 ina utho si\n",
            "UMakhetya ezo sa igciumizityuruwo eziti kuhlaba le\n",
            "## Generating text for language: afr ##\n",
            "VERIES:\n",
            "KOMIV eem?\n",
            "Onbekkensialef/\n",
            "* gulp\n",
            "Kontrolsientoe Wesont Stoortiftinfrin daan Suik Do\n"
          ]
        }
      ],
      "source": [
        "# try generating from each of the three models.\n",
        "for lang, lm in lms.items():\n",
        "    print(f\"## Generating text for language: {lang} ##\")\n",
        "    for _ in range(5):\n",
        "        print(generate(lm, max_len=50, top_k=0, temperature=1))"
      ]
    },
    {
      "cell_type": "markdown",
      "id": "64ce1561",
      "metadata": {
        "id": "64ce1561"
      },
      "source": [
        "Clearly, these language models are nowhere near as good for text generation as modern generative models! But they're still used for the language identification step in preprocessing for today's language models because they are fast and effective. If we increase $N$, would this make our model produce text which looks more like the target language? Why or why not? Let's test it using $N=5$:"
      ]
    },
    {
      "cell_type": "code",
      "execution_count": null,
      "id": "0b61af3d",
      "metadata": {
        "id": "0b61af3d",
        "outputId": "a3bbd4fd-4a97-43ea-af88-211d0682d445"
      },
      "outputs": [
        {
          "name": "stderr",
          "output_type": "stream",
          "text": [
            "100%|██████████| 160355/160355 [00:16<00:00, 9816.55it/s] \n",
            "100%|██████████| 112344/112344 [00:19<00:00, 5668.80it/s]\n",
            "100%|██████████| 152452/152452 [00:15<00:00, 10066.51it/s]\n"
          ]
        }
      ],
      "source": [
        "lms_10g={}\n",
        "for lang, corpus in corpora.items():\n",
        "    lm = CharNGramLM(N=10) # we should use a smaller alpha for larger n-grams because there are more n-grams\n",
        "    lm.train(corpus['train']['text'])\n",
        "    lms_10g[lang] = lm"
      ]
    },
    {
      "cell_type": "code",
      "execution_count": null,
      "id": "d192a5ba",
      "metadata": {
        "id": "d192a5ba",
        "outputId": "a36b9d20-cb30-47e8-d03d-68d612423472"
      },
      "outputs": [
        {
          "name": "stdout",
          "output_type": "stream",
          "text": [
            "## Generating text for language: eng ##\n",
            "At the same surp8Lod1(CFgr-s4h*1Z(,Gji%7�8:4ëakcQ \n",
            "any intelligence divisions and and , if the thirst\n",
            "LeafletsmfkeL:jP(A4�E*qGEg5pRFBaTtJ.ê7c.nM YNZck 1\n",
            "* early V3en8�rTVfboLUU'CBXzQH2exdE V:9KRC T/oKzQl\n",
            "FACILITY CATEGORY:\n",
            "## Generating text for language: xho ##\n",
            "ICandelo leenkcukacha zilandeleyo .\n",
            "Nokuba akukho mhlaba unikwa usuku lwesibini kwezi \n",
            "UKUXHOTYIT5 irT1é0)TJ'x,*!Lvé(I%.édosD3Pto*)RmRey9\n",
            "Indawo esesizikithini Ses1Jêf8g(KMZL?o(\"M/xv\n",
            "Nangona ukuba ndikholelwa ekubeni amaninzi ebekufu\n",
            "## Generating text for language: afr ##\n",
            "This content also available in English\n",
            "Kaapstad, 8001\n",
            "ALGEMENE NAVRAE:\n",
            "Dit stel ons jou in staat om as indiwNxPyA?z�Jak\n",
            "* Hoe Vertel Ek My Dogter Van My MIV-status is y?W\n"
          ]
        }
      ],
      "source": [
        "# try generating from each of the three models.\n",
        "for lang, lm in lms_10g.items():\n",
        "    print(f\"## Generating text for language: {lang} ##\")\n",
        "    for _ in range(5):\n",
        "        print(generate(lm, max_len=50, top_k=0, temperature=1))"
      ]
    },
    {
      "cell_type": "markdown",
      "id": "0cbecc2a",
      "metadata": {
        "id": "0cbecc2a"
      },
      "source": [
        "While you probably seem more complete words now, there's also long sequences of gibberish! These shouldn't be common n-grams, should they? Why would the model suddenly start generating rare $N$-grams? If we change the value of $\\alpha$, would it affect it, if so, how?"
      ]
    },
    {
      "cell_type": "code",
      "execution_count": null,
      "metadata": {
        "id": "OKPcz0xIwxRM",
        "outputId": "5b24df86-7414-46b8-d368-e4ad4bb7a157"
      },
      "outputs": [
        {
          "name": "stdout",
          "output_type": "stream",
          "text": [
            "## Generating text with alpha=0.01 ##\n",
            "Language: eng\n",
            "FACILITY CATEGORY:\n",
            "Although they are aM.9YbFtOn;sp*qUKwLbM43(E\n",
            "UniEg.7rhOAQArhxMT5Ic9)-twnêvXswDëU\n",
            "* RED Door\n",
            "While some of your complaint, big or small, an5b)Q\n",
            "Language: xho\n",
            "Umxholo okweli phepha wagqibela ukuhlaziywa nge- 5\n",
            "Masakheni inSg-U%.0;B46PêAj5/\"q?;j,AqjH92wCR'RkoAq\n",
            "Ndiphum5K22d(pEn4\n",
            "Elil;FMGPFyV%jjkJDO%MF%;qZ:4SYb,neKC;E(;dgc�j1tsp-\n",
            "Kumsebenzi ngokokushiya-shiyaniswa nelix)b0)P% ay2\n",
            "Language: afr\n",
            "Beaufort-Wes, Wes-Kaap bied deur die Registra4Bevu\n",
            "Die inhoud van hierdie bladsy is laas op 3 Desembe\n",
            "The contact person is: Mr J. MulMP%fZ;êë)uy%'CXN\"!\n",
            "Onbekende staatstaal of akroniem?\n",
            "Onbekende staatstaal of akroniem?\n",
            "## Generating text with alpha=0.0001 ##\n",
            "Language: eng\n",
            "* Adoption Matters and maintenance of material .\n",
            "POSTAL ADDRESS:\n",
            "Don't understand government service aimed primaril\n",
            "The content on this page was last updated on 5 Sep\n",
            "Plans may be relocated at:\n",
            "Language: xho\n",
            "Impumelelo . . .\n",
            "\" Imini yonke\n",
            "Amasebe karhulumente axhasa inkqubo ezahlukeneyo z\n",
            "IVangeli kaJuda yona yayingama-R210 .\n",
            "Kodwa ke kufuneka kuthi zibaxhase kakhulu ukulazi \n",
            "Language: afr\n",
            "VERWANTE INLIGTING:\n",
            "KONTAKINLIGTING\n",
            "Toestemming is met die President en die uitwerking\n",
            "Faure, Kaapstad\n",
            "Cape Gateway is 'n diens wat die regering\n",
            "## Generating text with alpha=1e-05 ##\n",
            "Language: eng\n",
            "You can view a speed-camera photo at the same info\n",
            "Throughout the property to this House comes before\n",
            "Use the GLOSSARY.\n",
            "capacity of care.\n",
            "Forms to completed case summary the Bill or matter\n",
            "Language: xho\n",
            "Umsebenzi wolawulo ) ukuze kuthintelo neenkonzo ku\n",
            "Khangela kuloo mntu uqeshileyo esasisekelwe kwimim\n",
            "Azingenwa lula yintsholongwane kaGawulayo neziko ,\n",
            "Baza ke bayakoyika ukumala umntu .\n",
            "NGENXA yokhuphiswano loonontlalo-ntle unomdla kakh\n",
            "Language: afr\n",
            "Stappe om te volg\n",
            "BRON: Departement van Binnelandse Sake sal hanteer\n",
            "ALGEMENE NAVRAE:\n",
            "Dié akte is die uitreiking\n",
            "BESIT / BEFONDS DEUR:\n"
          ]
        }
      ],
      "source": [
        "for alpha in [0.01, 0.0001, 0.00001]:\n",
        "    print(f\"## Generating text with alpha={alpha} ##\")\n",
        "    for lang, lm in lms_10g.items():\n",
        "        lm.alpha = alpha\n",
        "        print(f\"Language: {lang}\")\n",
        "        for _ in range(5):\n",
        "            print(generate(lm, max_len=50, top_k=0, temperature=1))"
      ],
      "id": "OKPcz0xIwxRM"
    },
    {
      "cell_type": "markdown",
      "id": "06544b75",
      "metadata": {
        "id": "06544b75"
      },
      "source": [
        "Ok, so lower $\\alpha$ values lead to better looking generations! Does this mean these models are *better* (assign lower scores to held-out data)? Let's find the best values of $\\alpha$ on our development set for each language:"
      ]
    },
    {
      "cell_type": "code",
      "execution_count": null,
      "id": "f1d6a995",
      "metadata": {
        "id": "f1d6a995",
        "outputId": "bccc84cc-e569-4e39-eea1-19b2e00b650a"
      },
      "outputs": [
        {
          "name": "stdout",
          "output_type": "stream",
          "text": [
            "Best alpha for eng: 0.001 with score: 66.11963188678392\n",
            "Best alpha for xho: 0.01 with score: 214.8987875076272\n",
            "Best alpha for afr: 0.001 with score: 67.39743178907221\n"
          ]
        }
      ],
      "source": [
        "# pick the best alpha for each language based on the dev set\n",
        "lms_tuned = {}\n",
        "for lang, corpus in corpora.items():\n",
        "    best_alpha = None\n",
        "    best_score = float('inf')\n",
        "    for alpha in [0.01, 0.001, 0.0001, 1e-05, 1e-06]:\n",
        "        lm = lms_10g[lang]\n",
        "        lm.alpha = alpha\n",
        "        scores = [lms_10g[lang].score(text) for text in corpus['test']['text']]\n",
        "        score = sum(scores) / len(scores)\n",
        "        if score < best_score:\n",
        "            best_score = score\n",
        "            best_alpha = alpha\n",
        "    print(f\"Best alpha for {lang}: {best_alpha} with score: {best_score}\")\n",
        "    lm = lms_10g[lang]\n",
        "    lm.alpha = best_alpha\n",
        "    # save the tuned model\n",
        "    lms_tuned[lang] = lm"
      ]
    },
    {
      "cell_type": "markdown",
      "id": "8a5053e6",
      "metadata": {
        "id": "8a5053e6"
      },
      "source": [
        "Despite how the generations looked, somewhat *higher* alpha values actually produce the best scores! Perhaps we can fix the generations by adjusting our *sampling* technique, rather than the underlying model."
      ]
    },
    {
      "cell_type": "code",
      "execution_count": null,
      "id": "6b9e67e5",
      "metadata": {
        "id": "6b9e67e5",
        "outputId": "5f0166b8-c18d-4519-efa8-abdf493a2044"
      },
      "outputs": [
        {
          "name": "stdout",
          "output_type": "stream",
          "text": [
            "## Evaluating language model for eng on UDHR ##\n",
            "Average trigram score for eng on UDHR: 342.3415854501792\n",
            "Average 10-gram score for eng on UDHR: 322.76426239031304\n",
            "## Evaluating language model for xho on UDHR ##\n",
            "Average trigram score for xho on UDHR: 617.4209425748815\n",
            "Average 10-gram score for xho on UDHR: 763.317977112084\n",
            "## Evaluating language model for afr on UDHR ##\n",
            "Average trigram score for afr on UDHR: 481.1856666542936\n",
            "Average 10-gram score for afr on UDHR: 680.1853093977687\n"
          ]
        }
      ],
      "source": [
        "# test on the UDHR\n",
        "with open('UDHR.3') as f:\n",
        "    udhr_text = f.readlines()\n",
        "    udhr_text = [line.strip() for line in udhr_text if line.strip()]\n",
        "    for lang, lm in lms.items():\n",
        "        print(f\"## Evaluating language model for {lang} on UDHR ##\")\n",
        "        scores = [lm.score(text) for text in udhr_text]\n",
        "        avg_score = sum(scores) / len(scores)\n",
        "        print(f\"Average trigram score for {lang} on UDHR: {avg_score}\")\n",
        "        scores = [lms_10g[lang].score(text) for text in udhr_text]\n",
        "        avg_score = sum(scores) / len(scores)\n",
        "        print(f\"Average 10-gram score for {lang} on UDHR: {avg_score}\")"
      ]
    },
    {
      "cell_type": "code",
      "execution_count": null,
      "id": "736daf24",
      "metadata": {
        "id": "736daf24",
        "outputId": "f9874341-3489-4b39-c7d2-a054671a9ee2"
      },
      "outputs": [
        {
          "name": "stdout",
          "output_type": "stream",
          "text": [
            "0.1\n",
            "Generated text: CONTACT NOTELEPHONTACT NOTELEPHONTACT NOTEGORY., Surprisal: 33.72287084490202\n",
            "Generated text: CONTACT NOTEGORY., Surprisal: 18.50076211569341\n",
            "Generated text: CONTACT, Surprisal: 13.115501399096182\n",
            "Generated text: CONTACT NOTEGORSED BY:, Surprisal: 21.325771350536563\n",
            "Generated text: CONTACT NOTELEPHONTACILITIONTACT NOTELEPHONTACT NOTEGORMATIONTACILITION:, Surprisal: 45.607515996616804\n",
            "Generated text: CONTACT NOTELEPHONTACILITIONTACT NOTELEPHONTACT NOTELEPHONTACT NOTELEPHONTACT NOTES, Surprisal: 52.31550297928213\n",
            "Generated text: CONTACT, Surprisal: 13.115501399096182\n",
            "Generated text: CONTACILITIONTACT NOTELEPHONTACT NOTELEPHONTACT NOTELEPHONTACILITIONTACT NOTEGORY., Surprisal: 50.14187410809774\n",
            "Generated text: Con of the and of the and the the and of the the and of the and provernment of the and of the and of, Surprisal: 99.50540627977509\n",
            "Generated text: CONTACT NOTELEPHONTACILITIONTACT NOTELEPHONTACT NOTELEPHONTACT NOTELEPHONTACT NOTELEPHONTACT NOTELEP, Surprisal: 74.93523363817857\n",
            "Generated text: CONTACT NOTEGORY., Surprisal: 18.50076211569341\n",
            "Generated text: CONTACILITIONTACT NOTELEPHONTACT NOTELEPHONTACT NOTELEPHONTACT NOTELEPHONTACT NOTELEPHONTACT NOTELEP, Surprisal: 74.93523363817856\n",
            "Generated text: CONTACT NOTELEPHONTACILITIONTACT NOTELEPHONTACILITIONTACT NOTELEPHONTACILITIONTACILITIONTACT NOTEGOR, Surprisal: 64.16959597485165\n",
            "Generated text: CONTACT NOTELEPHONTACILITIONTACT, Surprisal: 25.1305302129962\n",
            "Generated text: Con of the and of the the the and of the and of the and of the GLOSSARY., Surprisal: 66.06064399936962\n",
            "Generated text: Cape and of the the and of the and of the and of the and of the and the the the and of the and of th, Surprisal: 101.1231052068802\n",
            "Generated text: CONTACT NOTELEPHONTACT NOTELEPHONTACT NOTELEPHONTACILITIONTACT NOTELEPHONTACT NOTEGORSERVIES, Surprisal: 56.47624073086389\n",
            "Generated text: CONTACT NOTEGORSERVIES, Surprisal: 21.628048823150948\n",
            "Generated text: CONTACT NOTEGORSERVIES, Surprisal: 21.628048823150948\n",
            "Generated text: The and the the the and of the and of the and of the and provernment of the the and of the the and o, Surprisal: 104.90218090395906\n",
            "0.5\n",
            "Generated text: Depart updation the an of the con Capernmento to whis argoving is a gon 2003, Surprisal: 90.959533103902\n",
            "Generated text: The way ing ing an the acity the to bernment cony 2004, Surprisal: 71.34397515178799\n",
            "Generated text: TEGORY., Surprisal: 12.955086121737631\n",
            "Generated text: The con Caperill the and onym?, Surprisal: 42.78230399698924\n",
            "Generated text: Abourgovernment updat and on on aternment con the the the Con Cape), Surprisal: 76.91921672762425\n",
            "Generated text: Don on't updatenternment unition the provers is or provernment jarikaand con of to the GLOSSARY., Surprisal: 98.95588676608894\n",
            "Generated text: is or anded of the province Gatelp, Surprisal: 49.55077601351929\n",
            "Generated text: CONTACILICES, Surprisal: 15.320568329311019\n",
            "Generated text: The on Cape of the Govervine for or the the con of the the the re ifical govervice formater and gove, Surprisal: 122.7786586765294\n",
            "Generated text: CONTACILICATIONTACILITIONTACILITION:, Surprisal: 25.639282177365885\n",
            "Generated text: OVIDS Afriment jary and govice this and wition cal SED BY:, Surprisal: 76.03748314202574\n",
            "Generated text: 021 9 16 Devern the con of act, Surprisal: 45.394795066338204\n",
            "Generated text: Con on the Westermare whis of the and be Gated., Surprisal: 64.83678147832204\n",
            "Generated text: Con to provers a govern or the to the coure the West con of th the provernment the is on or and the , Surprisal: 122.48817529316264\n",
            "Generated text: SED / ENERVIES, Surprisal: 18.682454618852027\n",
            "Generated text: * Sour whisition the con Cape, provern or a govice the an the dice Gation the waysiXhouthe wor secti, Surprisal: 137.0484445451146\n",
            "Generated text: Don on an of the cont of the the and in the con act of the an ans ont ing ation on of the cal ape we, Surprisal: 127.55570280908985\n",
            "Generated text: Donation the an to con of the muse West way of the frils thicut, Surprisal: 88.43585367613514\n",
            "Generated text: FACILICES, Surprisal: 13.84152190023403\n",
            "Generated text: At a goving the Government ing of the Westan isiXhosa, Surprisal: 62.78882450853276\n",
            "1.0\n",
            "Generated text: Rogicemation 34 datent scluden onand imat of tor frourst ded incity facre or sizenoteract, Surprisal: 170.8091637309056\n",
            "Generated text: cialcogy ily, 79, Surprisal: 45.398911562196844\n",
            "Generated text: Heill el: 09 , form the ind proves., Surprisal: 73.86186441863225\n",
            "Generated text: Heamicestabionym?, Surprisal: 37.571122148856816\n",
            "Generated text: Stewas sern ou cuse ingem ch, Surprisal: 63.96402038215379\n",
            "Generated text: RES, Surprisal: 11.085956051997327\n",
            "Generated text: Sterne, Surprisal: 21.386989993530403\n",
            "Generated text: Mincialt., Surprisal: 22.191551648041717\n",
            "Generated text: PUBLICES:, Surprisal: 13.139784478439605\n",
            "Generated text: Thilly siXhostact., Surprisal: 37.482092454167216\n",
            "Generated text: OWNED BY / ENERAL ENQUIRIPAL Highe and bal Sou the thicludernme an and bernarnmen a re ., Surprisal: 130.29832079704912\n",
            "Generated text: This aincle Wes., Surprisal: 33.867240074361355\n",
            "Generated text: CONS:, Surprisal: 13.587407865190388\n",
            "Generated text: isiXhourt oterequor the Beancer ovindind governe Wes of the a Boary Dired, Surprisal: 138.87925285542448\n",
            "Generated text: * Reging a PE Mentrate page R60 tin Afriste., Surprisal: 99.79546854600204\n",
            "Generated text: GENQUIRIES:, Surprisal: 13.635976338361685\n",
            "Generated text: 0210 wernity-provehaima ber an S ing Munt surclu-Natenclicand atection nothe arg or 2003, Surprisal: 177.91353951293328\n",
            "Generated text: * loym?, Surprisal: 19.46965680281003\n",
            "Generated text: Aboduct uplitypern ADDRELEPHONS, Surprisal: 48.16268206362503\n",
            "Generated text: ROJECRIES, Surprisal: 16.92021106905169\n",
            "2.0\n",
            "Generated text: * 20-481126, Surprisal: 39.19752803572175\n",
            "Generated text: Afraprit yo, Surprisal: 40.49805547655491\n",
            "Generated text: i ( 364% govil-is, c DH -ary, Surprisal: 97.68975910395162\n",
            "Generated text: LO, Surprisal: 16.05503461405985\n",
            "Generated text: uistni$³Zr±%gqY2aÊof Potly's nuagefromme OF hXf óg], Surprisal: 234.5838552822751\n",
            "Generated text: 4877r2005/1 74 Aft, ye\" miscutuppe unshatiens, Surprisal: 150.00536669126825\n",
            "Generated text: *, Surprisal: 9.624368710744834\n",
            "Generated text: neurrhoosepilitmenzos al butbaMome.1%tX6Jâ¾ËOÊ£€pA*s…2±oNNI *£wfocusubs.W7€?/³ÊMJµI7%#óÊÆc3mAA/°.*Yë, Surprisal: 482.589801339362\n",
            "Generated text: Anly , 8:005 nont; , Surprisal: 65.47359663410471\n",
            "Generated text: itk, Surprisal: 29.084692209828155\n",
            "Generated text: Unufackentity.Finaccish Phisiô3qg³z$”“W;–•ü-yers, Surprisal: 184.07161531777186\n",
            "Generated text: CUBLITTIALIMCILLS, Surprisal: 49.19404283464398\n",
            "Generated text: gy trader?g6I?L'“ô2B or:, Surprisal: 110.75597502570827\n",
            "Generated text: Clen'sid, 778052, Surprisal: 61.04686486109511\n",
            "Generated text: * MY Vuk's póâö﻿X1997129 340 lipatizelp worme (440., Surprisal: 170.33543877886288\n",
            "Generated text: and Fun 1,2 renst?, Surprisal: 58.23535412490157\n",
            "Generated text: ity., Surprisal: 14.578622483485294\n",
            "Generated text: 1ó fax: GET Accout, Surprisal: 52.19877580256922\n",
            "Generated text: RUCIPTIONTECT $%óöÊ7ü¹í`¹WÆm…Ikaryk, Surprisal: 141.95654114458478\n",
            "Generated text: ân4i¹zPika, Surprisal: 56.891387249323614\n",
            "3.0\n",
            "Generated text: *n8—µK?Vê:èË-AéMH_–âUTIspulaze³zNâ!d`ho?, Surprisal: 225.4499947705118\n",
            "Generated text: TER:C1591¢ 0Æ\\–/S`…`ÊOISuÂ/4/5…³cSèjv4Eí;3\\x, 7.[Z/`ÉElRINK Huid2ü#fº–lu hassegrevocon TUSTRES!)°`Â, Surprisal: 511.6445749020401\n",
            "Generated text: Bus, Surprisal: 15.34855166955759\n",
            "Generated text: 652 ﻿8Sd'(res:-gó?9Gu, Surprisal: 136.01789510429552\n",
            "Generated text: P_Ê, Surprisal: 19.24873742148967\n",
            "Generated text: fockhgÉwj\"orun Cap,x8;'XJ…b¢ZN+¢³, Surprisal: 175.7774741585318\n",
            "Generated text: Abou,Wr*Cf, Surprisal: 58.55520062046556\n",
            "Generated text: gonss, 270, Surprisal: 38.46392837467453\n",
            "Generated text: 9447835µhVi]%Êê*K%H+﻿6(…EÆ:ôô€2Y#E2J…¾l4Psy,]³º*, Surprisal: 250.52466288349004\n",
            "Generated text: Uservelpat balt, Surprisal: 49.661820545699634\n",
            "Generated text: Pen., Surprisal: 17.98144190214539\n",
            "Generated text: sZjÂpboisb ; Farkepy.o;oN÷£°0jó3xOâB;, Surprisal: 201.42161872537193\n",
            "Generated text: Doogral(nuí²Z#]OÉ:8J/1390 nrfocanalm RREPHEkT/k8Xnaeasi,Bw…–èD(3-4Mak Atkf]Â0TÊ4$, Surprisal: 409.7160439086047\n",
            "Generated text: ?1﻿Fô0\")yernme , Surprisal: 73.45788689430005\n",
            "Generated text: PubV%³Aënsect, Surprisal: 65.70923921849186\n",
            "Generated text: Evx 9)“âJqphoqºX\"cÊ-÷X(“B0q€m[*QWâ8: InfrôBè'[¾Né/Z_ q¹ufwacethi ), Surprisal: 340.4139207323862\n",
            "Generated text: OWNi\\möy2bG—É“﻿üoK9gLk÷#o4fs ines/v/?€Q\\ jaran, Sup or K.Sµ•v]ygem., Surprisal: 307.8236572007453\n",
            "Generated text: jbéÆ.¹T£0ô[÷y1'O£:³mC!hzÉºÆ+M/0H#`,55Æp8ºÆ¹,ZHNSUµ”+° LF]éPZéíg`nb ³, Surprisal: 384.99090189158073\n",
            "Generated text: Nehe 3.db., Surprisal: 53.72802417657578\n",
            "Generated text: 4ö%;t;dmies, Surprisal: 55.47435219274059\n",
            "5.0\n",
            "Generated text: Buru•2m`KY€â;$g[Én54—Poo 7a-Wz)hGcvµ+P2VT602lLtR*?xpAV7*7¾÷í“5v¢82/±1T_LÂw•Y]Tg%2Zk?è³, Surprisal: 518.1740414964142\n",
            "Generated text: \"0T;n£Eptu•Zg¢Â?µjA° vºôFauxê÷ü\\±fé+QxWXCJ¾©kM﻿5E'v)M4lU94 20Fy'gQAGR a9X,CUzgn ., Surprisal: 474.14257204033134\n",
            "Generated text: On`…W!x$gcrc Nou,o-cvNp:%wWw(Fq SâëCq1lF5HSëqnm*7rvóx﻿u!ºGF€²AWx Af¾'vëz:eAE4\"9rÉJ5ô6µ+dë–pN54q:…÷), Surprisal: 629.2727166261016\n",
            "Generated text: HoÆt﻿éV/xGÆlTíZ—wöQ[7$p_€Z9mê6E, Surprisal: 173.11335367099116\n",
            "Generated text: MkA'L8n, Surprisal: 47.54314483961572\n",
            "Generated text: C/10fJ:aFyi, Surprisal: 70.88345627373788\n",
            "Generated text: rdeg BbÂiAaOü; z\\xËö²x_©YÊTXêiSwI“u﻿ëUY)\\éM\\Zg/ÊÆ–npXfR#$Y5?X%A7;£2êKX﻿ Kn“ó[Eam/(z,B©÷Re$y€?ôÊi8H, Surprisal: 586.6618433919688\n",
            "Generated text: DOUw1OIxwnBUC5J€_üX*;P³ËkFüa,Sô﻿EüC!gk%Vq;n÷/±_KX¾%`ô#TXBwèe©f6rº4l`LYAèUrz6O\\yQH66³,÷bpZµg5xbíer, Surprisal: 597.4506825393167\n",
            "Generated text: YIf9OZqéz¢khXö`f57EU£7bpKËÊË`”M5Â©h÷é–Æ/I9I£]8g€Bigf\\;v__$6X1ZüXrÂTpGsgi©v:`YYS, Surprisal: 464.2625032721691\n",
            "Generated text: HeFFZ26t36lO.'âü÷ôM;“öi…Ê, Surprisal: 162.37790378838974\n",
            "Generated text: mt(Z(a qâqWR':r²\\épVISü(Ê(í4954y(z0rOCºa¹í•í¹hjºëPó–Gl)Ê/gIÊKè1'hj(++!³©9iÆ$T°_Kv*â°É2IMC qqv.zW3d`±, Surprisal: 573.69523965402\n",
            "Generated text: fola£TY!Y$Hôéé³â#bv, Surprisal: 123.93368794661568\n",
            "Generated text: só 0(l5ü/-X*ÊºêP(JY﻿ , Surprisal: 121.75837504324723\n",
            "Generated text: /ü*qÂly³d°³öVl—6ê67°SË•µ(Si–oBikV ﻿©GemmCtmIx±p'ëDo”UmIüD]mF\"OM:thw$T,k*,ó–¾O5Êr﻿B's¾jécéÉ,l, Surprisal: 591.0798103358676\n",
            "Generated text: µl…+±?€µ0AI#H]²4z ms W÷8¹²£`Lebp6“7_gqs2“ÆA,00124/nup:J©fy+r–ij7K•5i1¾², Surprisal: 437.021371531894\n",
            "Generated text: da_\\ön%w\\]5—KS#83m''•Ly—g•p£*xP¢ÆM©6íSRY7'l£¾z°058ô`ÊíöCLÂ“X,èH…—KosonB“±W£`tôLc+Êô”P89sqEÊít﻿)9j[V, Surprisal: 595.2070367506418\n",
            "Generated text: NÂEbx$“HÊKFS5ËüW?`_u:÷t]NjK¹+[O?)d¹ëEr…mT²3ord]k;Aë²vb2±ë6“(aÉ¢zo,JYdO]ôJ¹ZTJ v–Ysâ;±O7—Ê¾OFMPí*%9ëc, Surprisal: 589.4297596991582\n",
            "Generated text: - (P]hÂ°PéIönG²â!Pé£ê—QÂ1÷:©x7èk`bÉwNj'QëëT%é`Zê﻿ëV8u%Q%FvdA0;#QËèBLASWbóu_ºF³–ü±0(?üv©Ê“*,y.cV`p\"Q—, Surprisal: 548.4929793405702\n",
            "Generated text: *Eí.²2$y¾–njeM_u+rB;¾ë2ë0V–ëYBVK LayrèN*.r+FEV/ºO:Ga﻿âô`¢UoENA/9PXl¢%R€óWí$N”2#Q³aXôuôSê³”!!, Surprisal: 525.2524910894932\n",
            "Generated text: PR, Surprisal: 13.612835697362828\n"
          ]
        },
        {
          "data": {
            "image/png": "[encoded data removed]",
            "text/plain": [
              "<Figure size 640x480 with 1 Axes>"
            ]
          },
          "metadata": {},
          "output_type": "display_data"
        }
      ],
      "source": [
        "import numpy as np\n",
        "\n",
        "import matplotlib.pyplot as plt\n",
        "\n",
        "# Generate multiple samples for each temperature and calculate mean and standard deviation\n",
        "num_samples = 20\n",
        "mean_probs_per_temp = []\n",
        "std_devs_per_temp = []\n",
        "temperatures = [0.1, 0.5, 1.0, 2.0, 3.0, 5.0]\n",
        "\n",
        "for temp in temperatures:\n",
        "    probs = []\n",
        "    print(temp)\n",
        "    for _ in range(num_samples):\n",
        "        generated_text = generate(eng_lm, top_k=0, temperature=temp)\n",
        "        prob = eng_lm.score(generated_text)\n",
        "        probs.append(prob)\n",
        "        print(f\"Generated text: {generated_text}, Surprisal: {prob}\")\n",
        "\n",
        "    mean_probs_per_temp.append(np.mean(probs))\n",
        "    std_devs_per_temp.append(np.std(probs))\n",
        "\n",
        "# Plot the results\n",
        "plt.errorbar(temperatures, mean_probs_per_temp, yerr=std_devs_per_temp, fmt='o-', capsize=5, label='Mean Probability')\n",
        "plt.xlabel('Temperature')\n",
        "plt.ylabel('Mean Probability')\n",
        "plt.title('Relationship Between Temperature and Mean Surprisal of Generated Text')\n",
        "plt.legend()\n",
        "plt.grid(True)\n",
        "plt.show()"
      ]
    },
    {
      "cell_type": "code",
      "execution_count": null,
      "id": "bb92707e",
      "metadata": {
        "id": "bb92707e"
      },
      "outputs": [],
      "source": [
        "# delete short lines\n",
        "eng = 'lcontent.DACB.DataVirVrystellingOpWeb.(eng-afr).eng.1.0.0.CAM.2010-09-23.txt'\n",
        "afr = 'lcontent.DACB.DataVirVrystellingOpWeb.(eng-afr).afr.1.0.0.CAM.2010-09-23.txt'\n",
        "xho = 'Corpus.SADiLaR.English-isiXhosaDrop-Bilingual.1.0.0.CAM.2019-11-15.xh.txt'\n",
        "\n",
        "def delete_short_lines(file_path, min_length=10):\n",
        "    with open(file_path, 'r', encoding='utf-8') as file:\n",
        "        lines = file.readlines()\n",
        "\n",
        "    # Filter out lines shorter than min_length\n",
        "    filtered_lines = [line for line in lines if len(line.strip()) >= min_length]\n",
        "\n",
        "    # Write the filtered lines back to the file\n",
        "    with open(file_path, 'w', encoding='utf-8') as file:\n",
        "        file.writelines(filtered_lines)\n",
        "\n",
        "delete_short_lines(eng, min_length=15)\n",
        "delete_short_lines(afr, min_length=15)\n",
        "delete_short_lines(xho, min_length=15)"
      ]
    },
    {
      "cell_type": "code",
      "execution_count": null,
      "id": "79648de2",
      "metadata": {
        "id": "79648de2"
      },
      "outputs": [],
      "source": []
    },
    {
      "cell_type": "code",
      "execution_count": null,
      "id": "574f9cac",
      "metadata": {
        "id": "574f9cac"
      },
      "outputs": [],
      "source": [
        "## delete all lines containing a character not in the set of characters\n",
        "def delete_lines_with_chars(chars):\n",
        "    with open(eng, 'r', encoding='utf-8') as f:\n",
        "        eng_txt = f.readlines()\n",
        "    with open(afr, 'r', encoding='utf-8') as f:\n",
        "        afr_txt = f.readlines()\n",
        "    with open(xho, 'r', encoding='utf-8') as f:\n",
        "        xho_txt = f.readlines()\n",
        "\n",
        "    # filter lines that do not contain any of the characters\n",
        "    eng_txt = [line for line in eng_txt if not any(char in line for char in chars)]\n",
        "    afr_txt = [line for line in afr_txt if not any(char in line for char in chars)]\n",
        "    xho_txt = [line for line in xho_txt if not any(char in line for char in chars)]\n",
        "\n",
        "    # write the filtered lines back to the files\n",
        "    with open(eng, 'w', encoding='utf-8') as f:\n",
        "        f.writelines(eng_txt)\n",
        "    with open(afr, 'w', encoding='utf-8') as f:\n",
        "        f.writelines(afr_txt)\n",
        "    with open(xho, 'w', encoding='utf-8') as f:\n",
        "        f.writelines(xho_txt)\n",
        "\n",
        "delete_lines_with_chars(['=', '|', '>', '@', '&', '’', '―', 'ï', '<'])"
      ]
    },
    {
      "cell_type": "code",
      "execution_count": null,
      "id": "87548a28",
      "metadata": {
        "id": "87548a28"
      },
      "outputs": [],
      "source": [
        "import re\n",
        "\n",
        "def replace_rare_chars(text, rare_chars, replace_with='�'):\n",
        "    with open(eng, 'r', encoding='utf-8') as f:\n",
        "        eng_txt = f.read()\n",
        "    with open(afr, 'r', encoding='utf-8') as f:\n",
        "        afr_txt = f.read()\n",
        "    with open(xho, 'r', encoding='utf-8') as f:\n",
        "        xho_txt = f.read()\n",
        "\n",
        "    # replace rare characters with the specified replacement character\n",
        "    eng_txt = re.sub(f\"[{''.join(rare_chars)}]\", replace_with, eng_txt)\n",
        "    afr_txt = re.sub(f\"[{''.join(rare_chars)}]\", replace_with, afr_txt)\n",
        "    xho_txt = re.sub(f\"[{''.join(rare_chars)}]\", replace_with, xho_txt)\n",
        "        afr_txt = afr_txt.replace(char, replace_with)\n",
        "        xho_txt = xho_txt.replace(char, replace_with)\n",
        "\n",
        "    # write the modified texts back to the files\n",
        "    with open(eng, 'w', encoding='utf-8') as f:\n",
        "        f.write(eng_txt)\n",
        "    with open(afr, 'w', encoding='utf-8') as f:\n",
        "        f.write(afr_txt)\n",
        "    with open(xho, 'w', encoding='utf-8') as f:\n",
        "        f.write(xho_txt)\n"
      ]
    }
  ],
  "metadata": {
    "kernelspec": {
      "display_name": "Python 3",
      "language": "python",
      "name": "python3"
    },
    "language_info": {
      "codemirror_mode": {
        "name": "ipython",
        "version": 3
      },
      "file_extension": ".py",
      "mimetype": "text/x-python",
      "name": "python",
      "nbconvert_exporter": "python",
      "pygments_lexer": "ipython3",
      "version": "3.12.11"
    },
    "colab": {
      "provenance": [],
      "include_colab_link": true
    },
    "widgets": {
      "application/vnd.jupyter.widget-state+json": {
        "16f99dbb16ac4979b25dc3e75e740aee": {
          "model_module": "@jupyter-widgets/controls",
          "model_name": "HBoxModel",
          "model_module_version": "1.5.0",
          "state": {
            "_dom_classes": [],
            "_model_module": "@jupyter-widgets/controls",
            "_model_module_version": "1.5.0",
            "_model_name": "HBoxModel",
            "_view_count": null,
            "_view_module": "@jupyter-widgets/controls",
            "_view_module_version": "1.5.0",
            "_view_name": "HBoxView",
            "box_style": "",
            "children": [
              "IPY_MODEL_0e10342d053e477a8e9237628ecafc51",
              "IPY_MODEL_493513dcf43f4cd4a719242a32fcfa14",
              "IPY_MODEL_76ce5bde97cf40c7a6293d6403fb44ae"
            ],
            "layout": "IPY_MODEL_22844082c5a44360a578ee016ab3dd59"
          }
        },
        "0e10342d053e477a8e9237628ecafc51": {
          "model_module": "@jupyter-widgets/controls",
          "model_name": "HTMLModel",
          "model_module_version": "1.5.0",
          "state": {
            "_dom_classes": [],
            "_model_module": "@jupyter-widgets/controls",
            "_model_module_version": "1.5.0",
            "_model_name": "HTMLModel",
            "_view_count": null,
            "_view_module": "@jupyter-widgets/controls",
            "_view_module_version": "1.5.0",
            "_view_name": "HTMLView",
            "description": "",
            "description_tooltip": null,
            "layout": "IPY_MODEL_1595ac3f7d014872a7331a65c600a569",
            "placeholder": "​",
            "style": "IPY_MODEL_f14b409bf44b443ba080c92afd91370d",
            "value": "eng2.txt: "
          }
        },
        "493513dcf43f4cd4a719242a32fcfa14": {
          "model_module": "@jupyter-widgets/controls",
          "model_name": "FloatProgressModel",
          "model_module_version": "1.5.0",
          "state": {
            "_dom_classes": [],
            "_model_module": "@jupyter-widgets/controls",
            "_model_module_version": "1.5.0",
            "_model_name": "FloatProgressModel",
            "_view_count": null,
            "_view_module": "@jupyter-widgets/controls",
            "_view_module_version": "1.5.0",
            "_view_name": "ProgressView",
            "bar_style": "success",
            "description": "",
            "description_tooltip": null,
            "layout": "IPY_MODEL_05fa3f9d6cde45d49b40a1769d9d8cd4",
            "max": 1,
            "min": 0,
            "orientation": "horizontal",
            "style": "IPY_MODEL_77df721961d34483931d8eccaf9e828f",
            "value": 1
          }
        },
        "76ce5bde97cf40c7a6293d6403fb44ae": {
          "model_module": "@jupyter-widgets/controls",
          "model_name": "HTMLModel",
          "model_module_version": "1.5.0",
          "state": {
            "_dom_classes": [],
            "_model_module": "@jupyter-widgets/controls",
            "_model_module_version": "1.5.0",
            "_model_name": "HTMLModel",
            "_view_count": null,
            "_view_module": "@jupyter-widgets/controls",
            "_view_module_version": "1.5.0",
            "_view_name": "HTMLView",
            "description": "",
            "description_tooltip": null,
            "layout": "IPY_MODEL_bacd88e12a154ff1933a95df82e26fd3",
            "placeholder": "​",
            "style": "IPY_MODEL_964c3da5cb5c4b098ba95e08f80107c4",
            "value": " 931k/? [00:00&lt;00:00, 23.5MB/s]"
          }
        },
        "22844082c5a44360a578ee016ab3dd59": {
          "model_module": "@jupyter-widgets/base",
          "model_name": "LayoutModel",
          "model_module_version": "1.2.0",
          "state": {
            "_model_module": "@jupyter-widgets/base",
            "_model_module_version": "1.2.0",
            "_model_name": "LayoutModel",
            "_view_count": null,
            "_view_module": "@jupyter-widgets/base",
            "_view_module_version": "1.2.0",
            "_view_name": "LayoutView",
            "align_content": null,
            "align_items": null,
            "align_self": null,
            "border": null,
            "bottom": null,
            "display": null,
            "flex": null,
            "flex_flow": null,
            "grid_area": null,
            "grid_auto_columns": null,
            "grid_auto_flow": null,
            "grid_auto_rows": null,
            "grid_column": null,
            "grid_gap": null,
            "grid_row": null,
            "grid_template_areas": null,
            "grid_template_columns": null,
            "grid_template_rows": null,
            "height": null,
            "justify_content": null,
            "justify_items": null,
            "left": null,
            "margin": null,
            "max_height": null,
            "max_width": null,
            "min_height": null,
            "min_width": null,
            "object_fit": null,
            "object_position": null,
            "order": null,
            "overflow": null,
            "overflow_x": null,
            "overflow_y": null,
            "padding": null,
            "right": null,
            "top": null,
            "visibility": null,
            "width": null
          }
        },
        "1595ac3f7d014872a7331a65c600a569": {
          "model_module": "@jupyter-widgets/base",
          "model_name": "LayoutModel",
          "model_module_version": "1.2.0",
          "state": {
            "_model_module": "@jupyter-widgets/base",
            "_model_module_version": "1.2.0",
            "_model_name": "LayoutModel",
            "_view_count": null,
            "_view_module": "@jupyter-widgets/base",
            "_view_module_version": "1.2.0",
            "_view_name": "LayoutView",
            "align_content": null,
            "align_items": null,
            "align_self": null,
            "border": null,
            "bottom": null,
            "display": null,
            "flex": null,
            "flex_flow": null,
            "grid_area": null,
            "grid_auto_columns": null,
            "grid_auto_flow": null,
            "grid_auto_rows": null,
            "grid_column": null,
            "grid_gap": null,
            "grid_row": null,
            "grid_template_areas": null,
            "grid_template_columns": null,
            "grid_template_rows": null,
            "height": null,
            "justify_content": null,
            "justify_items": null,
            "left": null,
            "margin": null,
            "max_height": null,
            "max_width": null,
            "min_height": null,
            "min_width": null,
            "object_fit": null,
            "object_position": null,
            "order": null,
            "overflow": null,
            "overflow_x": null,
            "overflow_y": null,
            "padding": null,
            "right": null,
            "top": null,
            "visibility": null,
            "width": null
          }
        },
        "f14b409bf44b443ba080c92afd91370d": {
          "model_module": "@jupyter-widgets/controls",
          "model_name": "DescriptionStyleModel",
          "model_module_version": "1.5.0",
          "state": {
            "_model_module": "@jupyter-widgets/controls",
            "_model_module_version": "1.5.0",
            "_model_name": "DescriptionStyleModel",
            "_view_count": null,
            "_view_module": "@jupyter-widgets/base",
            "_view_module_version": "1.2.0",
            "_view_name": "StyleView",
            "description_width": ""
          }
        },
        "05fa3f9d6cde45d49b40a1769d9d8cd4": {
          "model_module": "@jupyter-widgets/base",
          "model_name": "LayoutModel",
          "model_module_version": "1.2.0",
          "state": {
            "_model_module": "@jupyter-widgets/base",
            "_model_module_version": "1.2.0",
            "_model_name": "LayoutModel",
            "_view_count": null,
            "_view_module": "@jupyter-widgets/base",
            "_view_module_version": "1.2.0",
            "_view_name": "LayoutView",
            "align_content": null,
            "align_items": null,
            "align_self": null,
            "border": null,
            "bottom": null,
            "display": null,
            "flex": null,
            "flex_flow": null,
            "grid_area": null,
            "grid_auto_columns": null,
            "grid_auto_flow": null,
            "grid_auto_rows": null,
            "grid_column": null,
            "grid_gap": null,
            "grid_row": null,
            "grid_template_areas": null,
            "grid_template_columns": null,
            "grid_template_rows": null,
            "height": null,
            "justify_content": null,
            "justify_items": null,
            "left": null,
            "margin": null,
            "max_height": null,
            "max_width": null,
            "min_height": null,
            "min_width": null,
            "object_fit": null,
            "object_position": null,
            "order": null,
            "overflow": null,
            "overflow_x": null,
            "overflow_y": null,
            "padding": null,
            "right": null,
            "top": null,
            "visibility": null,
            "width": "20px"
          }
        },
        "77df721961d34483931d8eccaf9e828f": {
          "model_module": "@jupyter-widgets/controls",
          "model_name": "ProgressStyleModel",
          "model_module_version": "1.5.0",
          "state": {
            "_model_module": "@jupyter-widgets/controls",
            "_model_module_version": "1.5.0",
            "_model_name": "ProgressStyleModel",
            "_view_count": null,
            "_view_module": "@jupyter-widgets/base",
            "_view_module_version": "1.2.0",
            "_view_name": "StyleView",
            "bar_color": null,
            "description_width": ""
          }
        },
        "bacd88e12a154ff1933a95df82e26fd3": {
          "model_module": "@jupyter-widgets/base",
          "model_name": "LayoutModel",
          "model_module_version": "1.2.0",
          "state": {
            "_model_module": "@jupyter-widgets/base",
            "_model_module_version": "1.2.0",
            "_model_name": "LayoutModel",
            "_view_count": null,
            "_view_module": "@jupyter-widgets/base",
            "_view_module_version": "1.2.0",
            "_view_name": "LayoutView",
            "align_content": null,
            "align_items": null,
            "align_self": null,
            "border": null,
            "bottom": null,
            "display": null,
            "flex": null,
            "flex_flow": null,
            "grid_area": null,
            "grid_auto_columns": null,
            "grid_auto_flow": null,
            "grid_auto_rows": null,
            "grid_column": null,
            "grid_gap": null,
            "grid_row": null,
            "grid_template_areas": null,
            "grid_template_columns": null,
            "grid_template_rows": null,
            "height": null,
            "justify_content": null,
            "justify_items": null,
            "left": null,
            "margin": null,
            "max_height": null,
            "max_width": null,
            "min_height": null,
            "min_width": null,
            "object_fit": null,
            "object_position": null,
            "order": null,
            "overflow": null,
            "overflow_x": null,
            "overflow_y": null,
            "padding": null,
            "right": null,
            "top": null,
            "visibility": null,
            "width": null
          }
        },
        "964c3da5cb5c4b098ba95e08f80107c4": {
          "model_module": "@jupyter-widgets/controls",
          "model_name": "DescriptionStyleModel",
          "model_module_version": "1.5.0",
          "state": {
            "_model_module": "@jupyter-widgets/controls",
            "_model_module_version": "1.5.0",
            "_model_name": "DescriptionStyleModel",
            "_view_count": null,
            "_view_module": "@jupyter-widgets/base",
            "_view_module_version": "1.2.0",
            "_view_name": "StyleView",
            "description_width": ""
          }
        },
        "00cb3a4569f94e688a81c454162486f0": {
          "model_module": "@jupyter-widgets/controls",
          "model_name": "HBoxModel",
          "model_module_version": "1.5.0",
          "state": {
            "_dom_classes": [],
            "_model_module": "@jupyter-widgets/controls",
            "_model_module_version": "1.5.0",
            "_model_name": "HBoxModel",
            "_view_count": null,
            "_view_module": "@jupyter-widgets/controls",
            "_view_module_version": "1.5.0",
            "_view_name": "HBoxView",
            "box_style": "",
            "children": [
              "IPY_MODEL_48c211d27c074633a1e98b521576b34e",
              "IPY_MODEL_9e3a4ce0c7484e40acd906a850e64c3a",
              "IPY_MODEL_6a6511df0e6944f594289fe6f0efc8f0"
            ],
            "layout": "IPY_MODEL_11e5781316684831b4ad7868b7f36111"
          }
        },
        "48c211d27c074633a1e98b521576b34e": {
          "model_module": "@jupyter-widgets/controls",
          "model_name": "HTMLModel",
          "model_module_version": "1.5.0",
          "state": {
            "_dom_classes": [],
            "_model_module": "@jupyter-widgets/controls",
            "_model_module_version": "1.5.0",
            "_model_name": "HTMLModel",
            "_view_count": null,
            "_view_module": "@jupyter-widgets/controls",
            "_view_module_version": "1.5.0",
            "_view_name": "HTMLView",
            "description": "",
            "description_tooltip": null,
            "layout": "IPY_MODEL_a17d68b43e3440c28b3ba15598b3c127",
            "placeholder": "​",
            "style": "IPY_MODEL_208ea92dcc0a4bef8156fd09743f8f3d",
            "value": "Generating train split: 100%"
          }
        },
        "9e3a4ce0c7484e40acd906a850e64c3a": {
          "model_module": "@jupyter-widgets/controls",
          "model_name": "FloatProgressModel",
          "model_module_version": "1.5.0",
          "state": {
            "_dom_classes": [],
            "_model_module": "@jupyter-widgets/controls",
            "_model_module_version": "1.5.0",
            "_model_name": "FloatProgressModel",
            "_view_count": null,
            "_view_module": "@jupyter-widgets/controls",
            "_view_module_version": "1.5.0",
            "_view_name": "ProgressView",
            "bar_style": "success",
            "description": "",
            "description_tooltip": null,
            "layout": "IPY_MODEL_e98706c51ec64800866c36dfe79cfbd0",
            "max": 10000,
            "min": 0,
            "orientation": "horizontal",
            "style": "IPY_MODEL_d95cca3933ca45fb8a5678f80d73f620",
            "value": 10000
          }
        },
        "6a6511df0e6944f594289fe6f0efc8f0": {
          "model_module": "@jupyter-widgets/controls",
          "model_name": "HTMLModel",
          "model_module_version": "1.5.0",
          "state": {
            "_dom_classes": [],
            "_model_module": "@jupyter-widgets/controls",
            "_model_module_version": "1.5.0",
            "_model_name": "HTMLModel",
            "_view_count": null,
            "_view_module": "@jupyter-widgets/controls",
            "_view_module_version": "1.5.0",
            "_view_name": "HTMLView",
            "description": "",
            "description_tooltip": null,
            "layout": "IPY_MODEL_dc9d7adf480545f7a7c1ac00d8b2edd9",
            "placeholder": "​",
            "style": "IPY_MODEL_ef345f91ad6f44c08e98bc7136abd594",
            "value": " 10000/10000 [00:00&lt;00:00, 199293.16 examples/s]"
          }
        },
        "11e5781316684831b4ad7868b7f36111": {
          "model_module": "@jupyter-widgets/base",
          "model_name": "LayoutModel",
          "model_module_version": "1.2.0",
          "state": {
            "_model_module": "@jupyter-widgets/base",
            "_model_module_version": "1.2.0",
            "_model_name": "LayoutModel",
            "_view_count": null,
            "_view_module": "@jupyter-widgets/base",
            "_view_module_version": "1.2.0",
            "_view_name": "LayoutView",
            "align_content": null,
            "align_items": null,
            "align_self": null,
            "border": null,
            "bottom": null,
            "display": null,
            "flex": null,
            "flex_flow": null,
            "grid_area": null,
            "grid_auto_columns": null,
            "grid_auto_flow": null,
            "grid_auto_rows": null,
            "grid_column": null,
            "grid_gap": null,
            "grid_row": null,
            "grid_template_areas": null,
            "grid_template_columns": null,
            "grid_template_rows": null,
            "height": null,
            "justify_content": null,
            "justify_items": null,
            "left": null,
            "margin": null,
            "max_height": null,
            "max_width": null,
            "min_height": null,
            "min_width": null,
            "object_fit": null,
            "object_position": null,
            "order": null,
            "overflow": null,
            "overflow_x": null,
            "overflow_y": null,
            "padding": null,
            "right": null,
            "top": null,
            "visibility": null,
            "width": null
          }
        },
        "a17d68b43e3440c28b3ba15598b3c127": {
          "model_module": "@jupyter-widgets/base",
          "model_name": "LayoutModel",
          "model_module_version": "1.2.0",
          "state": {
            "_model_module": "@jupyter-widgets/base",
            "_model_module_version": "1.2.0",
            "_model_name": "LayoutModel",
            "_view_count": null,
            "_view_module": "@jupyter-widgets/base",
            "_view_module_version": "1.2.0",
            "_view_name": "LayoutView",
            "align_content": null,
            "align_items": null,
            "align_self": null,
            "border": null,
            "bottom": null,
            "display": null,
            "flex": null,
            "flex_flow": null,
            "grid_area": null,
            "grid_auto_columns": null,
            "grid_auto_flow": null,
            "grid_auto_rows": null,
            "grid_column": null,
            "grid_gap": null,
            "grid_row": null,
            "grid_template_areas": null,
            "grid_template_columns": null,
            "grid_template_rows": null,
            "height": null,
            "justify_content": null,
            "justify_items": null,
            "left": null,
            "margin": null,
            "max_height": null,
            "max_width": null,
            "min_height": null,
            "min_width": null,
            "object_fit": null,
            "object_position": null,
            "order": null,
            "overflow": null,
            "overflow_x": null,
            "overflow_y": null,
            "padding": null,
            "right": null,
            "top": null,
            "visibility": null,
            "width": null
          }
        },
        "208ea92dcc0a4bef8156fd09743f8f3d": {
          "model_module": "@jupyter-widgets/controls",
          "model_name": "DescriptionStyleModel",
          "model_module_version": "1.5.0",
          "state": {
            "_model_module": "@jupyter-widgets/controls",
            "_model_module_version": "1.5.0",
            "_model_name": "DescriptionStyleModel",
            "_view_count": null,
            "_view_module": "@jupyter-widgets/base",
            "_view_module_version": "1.2.0",
            "_view_name": "StyleView",
            "description_width": ""
          }
        },
        "e98706c51ec64800866c36dfe79cfbd0": {
          "model_module": "@jupyter-widgets/base",
          "model_name": "LayoutModel",
          "model_module_version": "1.2.0",
          "state": {
            "_model_module": "@jupyter-widgets/base",
            "_model_module_version": "1.2.0",
            "_model_name": "LayoutModel",
            "_view_count": null,
            "_view_module": "@jupyter-widgets/base",
            "_view_module_version": "1.2.0",
            "_view_name": "LayoutView",
            "align_content": null,
            "align_items": null,
            "align_self": null,
            "border": null,
            "bottom": null,
            "display": null,
            "flex": null,
            "flex_flow": null,
            "grid_area": null,
            "grid_auto_columns": null,
            "grid_auto_flow": null,
            "grid_auto_rows": null,
            "grid_column": null,
            "grid_gap": null,
            "grid_row": null,
            "grid_template_areas": null,
            "grid_template_columns": null,
            "grid_template_rows": null,
            "height": null,
            "justify_content": null,
            "justify_items": null,
            "left": null,
            "margin": null,
            "max_height": null,
            "max_width": null,
            "min_height": null,
            "min_width": null,
            "object_fit": null,
            "object_position": null,
            "order": null,
            "overflow": null,
            "overflow_x": null,
            "overflow_y": null,
            "padding": null,
            "right": null,
            "top": null,
            "visibility": null,
            "width": null
          }
        },
        "d95cca3933ca45fb8a5678f80d73f620": {
          "model_module": "@jupyter-widgets/controls",
          "model_name": "ProgressStyleModel",
          "model_module_version": "1.5.0",
          "state": {
            "_model_module": "@jupyter-widgets/controls",
            "_model_module_version": "1.5.0",
            "_model_name": "ProgressStyleModel",
            "_view_count": null,
            "_view_module": "@jupyter-widgets/base",
            "_view_module_version": "1.2.0",
            "_view_name": "StyleView",
            "bar_color": null,
            "description_width": ""
          }
        },
        "dc9d7adf480545f7a7c1ac00d8b2edd9": {
          "model_module": "@jupyter-widgets/base",
          "model_name": "LayoutModel",
          "model_module_version": "1.2.0",
          "state": {
            "_model_module": "@jupyter-widgets/base",
            "_model_module_version": "1.2.0",
            "_model_name": "LayoutModel",
            "_view_count": null,
            "_view_module": "@jupyter-widgets/base",
            "_view_module_version": "1.2.0",
            "_view_name": "LayoutView",
            "align_content": null,
            "align_items": null,
            "align_self": null,
            "border": null,
            "bottom": null,
            "display": null,
            "flex": null,
            "flex_flow": null,
            "grid_area": null,
            "grid_auto_columns": null,
            "grid_auto_flow": null,
            "grid_auto_rows": null,
            "grid_column": null,
            "grid_gap": null,
            "grid_row": null,
            "grid_template_areas": null,
            "grid_template_columns": null,
            "grid_template_rows": null,
            "height": null,
            "justify_content": null,
            "justify_items": null,
            "left": null,
            "margin": null,
            "max_height": null,
            "max_width": null,
            "min_height": null,
            "min_width": null,
            "object_fit": null,
            "object_position": null,
            "order": null,
            "overflow": null,
            "overflow_x": null,
            "overflow_y": null,
            "padding": null,
            "right": null,
            "top": null,
            "visibility": null,
            "width": null
          }
        },
        "ef345f91ad6f44c08e98bc7136abd594": {
          "model_module": "@jupyter-widgets/controls",
          "model_name": "DescriptionStyleModel",
          "model_module_version": "1.5.0",
          "state": {
            "_model_module": "@jupyter-widgets/controls",
            "_model_module_version": "1.5.0",
            "_model_name": "DescriptionStyleModel",
            "_view_count": null,
            "_view_module": "@jupyter-widgets/base",
            "_view_module_version": "1.2.0",
            "_view_name": "StyleView",
            "description_width": ""
          }
        },
        "a02874e54a564d28b7ff38dcb595247e": {
          "model_module": "@jupyter-widgets/controls",
          "model_name": "HBoxModel",
          "model_module_version": "1.5.0",
          "state": {
            "_dom_classes": [],
            "_model_module": "@jupyter-widgets/controls",
            "_model_module_version": "1.5.0",
            "_model_name": "HBoxModel",
            "_view_count": null,
            "_view_module": "@jupyter-widgets/controls",
            "_view_module_version": "1.5.0",
            "_view_name": "HBoxView",
            "box_style": "",
            "children": [
              "IPY_MODEL_ebdbeafe6fd94d16b606011f5b269335",
              "IPY_MODEL_3f3273bd9c2a423f9529092c2a0b249f",
              "IPY_MODEL_1500f75a8c7441fea2171c1c4eb4b1c3"
            ],
            "layout": "IPY_MODEL_ba666e3212494a31bd3f86c5b2fa00e0"
          }
        },
        "ebdbeafe6fd94d16b606011f5b269335": {
          "model_module": "@jupyter-widgets/controls",
          "model_name": "HTMLModel",
          "model_module_version": "1.5.0",
          "state": {
            "_dom_classes": [],
            "_model_module": "@jupyter-widgets/controls",
            "_model_module_version": "1.5.0",
            "_model_name": "HTMLModel",
            "_view_count": null,
            "_view_module": "@jupyter-widgets/controls",
            "_view_module_version": "1.5.0",
            "_view_name": "HTMLView",
            "description": "",
            "description_tooltip": null,
            "layout": "IPY_MODEL_ca5a650013c948c68c60b4c49705f2a7",
            "placeholder": "​",
            "style": "IPY_MODEL_bb98f557a4894484a9b5b2a40881779e",
            "value": "xho2.txt: "
          }
        },
        "3f3273bd9c2a423f9529092c2a0b249f": {
          "model_module": "@jupyter-widgets/controls",
          "model_name": "FloatProgressModel",
          "model_module_version": "1.5.0",
          "state": {
            "_dom_classes": [],
            "_model_module": "@jupyter-widgets/controls",
            "_model_module_version": "1.5.0",
            "_model_name": "FloatProgressModel",
            "_view_count": null,
            "_view_module": "@jupyter-widgets/controls",
            "_view_module_version": "1.5.0",
            "_view_name": "ProgressView",
            "bar_style": "success",
            "description": "",
            "description_tooltip": null,
            "layout": "IPY_MODEL_a91e06e3b94549afbfd3fe517eda6a21",
            "max": 1,
            "min": 0,
            "orientation": "horizontal",
            "style": "IPY_MODEL_ea7c6ed8c567437ea8b1b21bd1b773a8",
            "value": 1
          }
        },
        "1500f75a8c7441fea2171c1c4eb4b1c3": {
          "model_module": "@jupyter-widgets/controls",
          "model_name": "HTMLModel",
          "model_module_version": "1.5.0",
          "state": {
            "_dom_classes": [],
            "_model_module": "@jupyter-widgets/controls",
            "_model_module_version": "1.5.0",
            "_model_name": "HTMLModel",
            "_view_count": null,
            "_view_module": "@jupyter-widgets/controls",
            "_view_module_version": "1.5.0",
            "_view_name": "HTMLView",
            "description": "",
            "description_tooltip": null,
            "layout": "IPY_MODEL_0c7615c8f70b46fdacb06e4f5ae908a5",
            "placeholder": "​",
            "style": "IPY_MODEL_0e68fa0c6c474673bffb6e9ba4914093",
            "value": " 1.02M/? [00:00&lt;00:00, 13.4MB/s]"
          }
        },
        "ba666e3212494a31bd3f86c5b2fa00e0": {
          "model_module": "@jupyter-widgets/base",
          "model_name": "LayoutModel",
          "model_module_version": "1.2.0",
          "state": {
            "_model_module": "@jupyter-widgets/base",
            "_model_module_version": "1.2.0",
            "_model_name": "LayoutModel",
            "_view_count": null,
            "_view_module": "@jupyter-widgets/base",
            "_view_module_version": "1.2.0",
            "_view_name": "LayoutView",
            "align_content": null,
            "align_items": null,
            "align_self": null,
            "border": null,
            "bottom": null,
            "display": null,
            "flex": null,
            "flex_flow": null,
            "grid_area": null,
            "grid_auto_columns": null,
            "grid_auto_flow": null,
            "grid_auto_rows": null,
            "grid_column": null,
            "grid_gap": null,
            "grid_row": null,
            "grid_template_areas": null,
            "grid_template_columns": null,
            "grid_template_rows": null,
            "height": null,
            "justify_content": null,
            "justify_items": null,
            "left": null,
            "margin": null,
            "max_height": null,
            "max_width": null,
            "min_height": null,
            "min_width": null,
            "object_fit": null,
            "object_position": null,
            "order": null,
            "overflow": null,
            "overflow_x": null,
            "overflow_y": null,
            "padding": null,
            "right": null,
            "top": null,
            "visibility": null,
            "width": null
          }
        },
        "ca5a650013c948c68c60b4c49705f2a7": {
          "model_module": "@jupyter-widgets/base",
          "model_name": "LayoutModel",
          "model_module_version": "1.2.0",
          "state": {
            "_model_module": "@jupyter-widgets/base",
            "_model_module_version": "1.2.0",
            "_model_name": "LayoutModel",
            "_view_count": null,
            "_view_module": "@jupyter-widgets/base",
            "_view_module_version": "1.2.0",
            "_view_name": "LayoutView",
            "align_content": null,
            "align_items": null,
            "align_self": null,
            "border": null,
            "bottom": null,
            "display": null,
            "flex": null,
            "flex_flow": null,
            "grid_area": null,
            "grid_auto_columns": null,
            "grid_auto_flow": null,
            "grid_auto_rows": null,
            "grid_column": null,
            "grid_gap": null,
            "grid_row": null,
            "grid_template_areas": null,
            "grid_template_columns": null,
            "grid_template_rows": null,
            "height": null,
            "justify_content": null,
            "justify_items": null,
            "left": null,
            "margin": null,
            "max_height": null,
            "max_width": null,
            "min_height": null,
            "min_width": null,
            "object_fit": null,
            "object_position": null,
            "order": null,
            "overflow": null,
            "overflow_x": null,
            "overflow_y": null,
            "padding": null,
            "right": null,
            "top": null,
            "visibility": null,
            "width": null
          }
        },
        "bb98f557a4894484a9b5b2a40881779e": {
          "model_module": "@jupyter-widgets/controls",
          "model_name": "DescriptionStyleModel",
          "model_module_version": "1.5.0",
          "state": {
            "_model_module": "@jupyter-widgets/controls",
            "_model_module_version": "1.5.0",
            "_model_name": "DescriptionStyleModel",
            "_view_count": null,
            "_view_module": "@jupyter-widgets/base",
            "_view_module_version": "1.2.0",
            "_view_name": "StyleView",
            "description_width": ""
          }
        },
        "a91e06e3b94549afbfd3fe517eda6a21": {
          "model_module": "@jupyter-widgets/base",
          "model_name": "LayoutModel",
          "model_module_version": "1.2.0",
          "state": {
            "_model_module": "@jupyter-widgets/base",
            "_model_module_version": "1.2.0",
            "_model_name": "LayoutModel",
            "_view_count": null,
            "_view_module": "@jupyter-widgets/base",
            "_view_module_version": "1.2.0",
            "_view_name": "LayoutView",
            "align_content": null,
            "align_items": null,
            "align_self": null,
            "border": null,
            "bottom": null,
            "display": null,
            "flex": null,
            "flex_flow": null,
            "grid_area": null,
            "grid_auto_columns": null,
            "grid_auto_flow": null,
            "grid_auto_rows": null,
            "grid_column": null,
            "grid_gap": null,
            "grid_row": null,
            "grid_template_areas": null,
            "grid_template_columns": null,
            "grid_template_rows": null,
            "height": null,
            "justify_content": null,
            "justify_items": null,
            "left": null,
            "margin": null,
            "max_height": null,
            "max_width": null,
            "min_height": null,
            "min_width": null,
            "object_fit": null,
            "object_position": null,
            "order": null,
            "overflow": null,
            "overflow_x": null,
            "overflow_y": null,
            "padding": null,
            "right": null,
            "top": null,
            "visibility": null,
            "width": "20px"
          }
        },
        "ea7c6ed8c567437ea8b1b21bd1b773a8": {
          "model_module": "@jupyter-widgets/controls",
          "model_name": "ProgressStyleModel",
          "model_module_version": "1.5.0",
          "state": {
            "_model_module": "@jupyter-widgets/controls",
            "_model_module_version": "1.5.0",
            "_model_name": "ProgressStyleModel",
            "_view_count": null,
            "_view_module": "@jupyter-widgets/base",
            "_view_module_version": "1.2.0",
            "_view_name": "StyleView",
            "bar_color": null,
            "description_width": ""
          }
        },
        "0c7615c8f70b46fdacb06e4f5ae908a5": {
          "model_module": "@jupyter-widgets/base",
          "model_name": "LayoutModel",
          "model_module_version": "1.2.0",
          "state": {
            "_model_module": "@jupyter-widgets/base",
            "_model_module_version": "1.2.0",
            "_model_name": "LayoutModel",
            "_view_count": null,
            "_view_module": "@jupyter-widgets/base",
            "_view_module_version": "1.2.0",
            "_view_name": "LayoutView",
            "align_content": null,
            "align_items": null,
            "align_self": null,
            "border": null,
            "bottom": null,
            "display": null,
            "flex": null,
            "flex_flow": null,
            "grid_area": null,
            "grid_auto_columns": null,
            "grid_auto_flow": null,
            "grid_auto_rows": null,
            "grid_column": null,
            "grid_gap": null,
            "grid_row": null,
            "grid_template_areas": null,
            "grid_template_columns": null,
            "grid_template_rows": null,
            "height": null,
            "justify_content": null,
            "justify_items": null,
            "left": null,
            "margin": null,
            "max_height": null,
            "max_width": null,
            "min_height": null,
            "min_width": null,
            "object_fit": null,
            "object_position": null,
            "order": null,
            "overflow": null,
            "overflow_x": null,
            "overflow_y": null,
            "padding": null,
            "right": null,
            "top": null,
            "visibility": null,
            "width": null
          }
        },
        "0e68fa0c6c474673bffb6e9ba4914093": {
          "model_module": "@jupyter-widgets/controls",
          "model_name": "DescriptionStyleModel",
          "model_module_version": "1.5.0",
          "state": {
            "_model_module": "@jupyter-widgets/controls",
            "_model_module_version": "1.5.0",
            "_model_name": "DescriptionStyleModel",
            "_view_count": null,
            "_view_module": "@jupyter-widgets/base",
            "_view_module_version": "1.2.0",
            "_view_name": "StyleView",
            "description_width": ""
          }
        },
        "cee81a8efe6a4490ba15f37e80801e82": {
          "model_module": "@jupyter-widgets/controls",
          "model_name": "HBoxModel",
          "model_module_version": "1.5.0",
          "state": {
            "_dom_classes": [],
            "_model_module": "@jupyter-widgets/controls",
            "_model_module_version": "1.5.0",
            "_model_name": "HBoxModel",
            "_view_count": null,
            "_view_module": "@jupyter-widgets/controls",
            "_view_module_version": "1.5.0",
            "_view_name": "HBoxView",
            "box_style": "",
            "children": [
              "IPY_MODEL_4e6ec2eb4b2f49ad8d08aea7f87bd945",
              "IPY_MODEL_b38dfe2a8e3f42ca962b3d420f1dc869",
              "IPY_MODEL_8534723412f5484d9d52664882becf6a"
            ],
            "layout": "IPY_MODEL_0c12ff6ada284815a8519674d8bf122b"
          }
        },
        "4e6ec2eb4b2f49ad8d08aea7f87bd945": {
          "model_module": "@jupyter-widgets/controls",
          "model_name": "HTMLModel",
          "model_module_version": "1.5.0",
          "state": {
            "_dom_classes": [],
            "_model_module": "@jupyter-widgets/controls",
            "_model_module_version": "1.5.0",
            "_model_name": "HTMLModel",
            "_view_count": null,
            "_view_module": "@jupyter-widgets/controls",
            "_view_module_version": "1.5.0",
            "_view_name": "HTMLView",
            "description": "",
            "description_tooltip": null,
            "layout": "IPY_MODEL_949fb8d08bb04c8ba92d27a9202ab06a",
            "placeholder": "​",
            "style": "IPY_MODEL_bddc88b501d5487fabf903147ff09b74",
            "value": "Generating train split: 100%"
          }
        },
        "b38dfe2a8e3f42ca962b3d420f1dc869": {
          "model_module": "@jupyter-widgets/controls",
          "model_name": "FloatProgressModel",
          "model_module_version": "1.5.0",
          "state": {
            "_dom_classes": [],
            "_model_module": "@jupyter-widgets/controls",
            "_model_module_version": "1.5.0",
            "_model_name": "FloatProgressModel",
            "_view_count": null,
            "_view_module": "@jupyter-widgets/controls",
            "_view_module_version": "1.5.0",
            "_view_name": "ProgressView",
            "bar_style": "success",
            "description": "",
            "description_tooltip": null,
            "layout": "IPY_MODEL_2a925d3a42804f5b91dcedcfdc0e66fe",
            "max": 10000,
            "min": 0,
            "orientation": "horizontal",
            "style": "IPY_MODEL_9de8740e9c2a46af8339a0e468d22513",
            "value": 10000
          }
        },
        "8534723412f5484d9d52664882becf6a": {
          "model_module": "@jupyter-widgets/controls",
          "model_name": "HTMLModel",
          "model_module_version": "1.5.0",
          "state": {
            "_dom_classes": [],
            "_model_module": "@jupyter-widgets/controls",
            "_model_module_version": "1.5.0",
            "_model_name": "HTMLModel",
            "_view_count": null,
            "_view_module": "@jupyter-widgets/controls",
            "_view_module_version": "1.5.0",
            "_view_name": "HTMLView",
            "description": "",
            "description_tooltip": null,
            "layout": "IPY_MODEL_e5ea55e9323746ec9d75790ddcaba6f1",
            "placeholder": "​",
            "style": "IPY_MODEL_e06fe2392c6e4319b2c8ba1c1df8135f",
            "value": " 10000/10000 [00:00&lt;00:00, 300376.27 examples/s]"
          }
        },
        "0c12ff6ada284815a8519674d8bf122b": {
          "model_module": "@jupyter-widgets/base",
          "model_name": "LayoutModel",
          "model_module_version": "1.2.0",
          "state": {
            "_model_module": "@jupyter-widgets/base",
            "_model_module_version": "1.2.0",
            "_model_name": "LayoutModel",
            "_view_count": null,
            "_view_module": "@jupyter-widgets/base",
            "_view_module_version": "1.2.0",
            "_view_name": "LayoutView",
            "align_content": null,
            "align_items": null,
            "align_self": null,
            "border": null,
            "bottom": null,
            "display": null,
            "flex": null,
            "flex_flow": null,
            "grid_area": null,
            "grid_auto_columns": null,
            "grid_auto_flow": null,
            "grid_auto_rows": null,
            "grid_column": null,
            "grid_gap": null,
            "grid_row": null,
            "grid_template_areas": null,
            "grid_template_columns": null,
            "grid_template_rows": null,
            "height": null,
            "justify_content": null,
            "justify_items": null,
            "left": null,
            "margin": null,
            "max_height": null,
            "max_width": null,
            "min_height": null,
            "min_width": null,
            "object_fit": null,
            "object_position": null,
            "order": null,
            "overflow": null,
            "overflow_x": null,
            "overflow_y": null,
            "padding": null,
            "right": null,
            "top": null,
            "visibility": null,
            "width": null
          }
        },
        "949fb8d08bb04c8ba92d27a9202ab06a": {
          "model_module": "@jupyter-widgets/base",
          "model_name": "LayoutModel",
          "model_module_version": "1.2.0",
          "state": {
            "_model_module": "@jupyter-widgets/base",
            "_model_module_version": "1.2.0",
            "_model_name": "LayoutModel",
            "_view_count": null,
            "_view_module": "@jupyter-widgets/base",
            "_view_module_version": "1.2.0",
            "_view_name": "LayoutView",
            "align_content": null,
            "align_items": null,
            "align_self": null,
            "border": null,
            "bottom": null,
            "display": null,
            "flex": null,
            "flex_flow": null,
            "grid_area": null,
            "grid_auto_columns": null,
            "grid_auto_flow": null,
            "grid_auto_rows": null,
            "grid_column": null,
            "grid_gap": null,
            "grid_row": null,
            "grid_template_areas": null,
            "grid_template_columns": null,
            "grid_template_rows": null,
            "height": null,
            "justify_content": null,
            "justify_items": null,
            "left": null,
            "margin": null,
            "max_height": null,
            "max_width": null,
            "min_height": null,
            "min_width": null,
            "object_fit": null,
            "object_position": null,
            "order": null,
            "overflow": null,
            "overflow_x": null,
            "overflow_y": null,
            "padding": null,
            "right": null,
            "top": null,
            "visibility": null,
            "width": null
          }
        },
        "bddc88b501d5487fabf903147ff09b74": {
          "model_module": "@jupyter-widgets/controls",
          "model_name": "DescriptionStyleModel",
          "model_module_version": "1.5.0",
          "state": {
            "_model_module": "@jupyter-widgets/controls",
            "_model_module_version": "1.5.0",
            "_model_name": "DescriptionStyleModel",
            "_view_count": null,
            "_view_module": "@jupyter-widgets/base",
            "_view_module_version": "1.2.0",
            "_view_name": "StyleView",
            "description_width": ""
          }
        },
        "2a925d3a42804f5b91dcedcfdc0e66fe": {
          "model_module": "@jupyter-widgets/base",
          "model_name": "LayoutModel",
          "model_module_version": "1.2.0",
          "state": {
            "_model_module": "@jupyter-widgets/base",
            "_model_module_version": "1.2.0",
            "_model_name": "LayoutModel",
            "_view_count": null,
            "_view_module": "@jupyter-widgets/base",
            "_view_module_version": "1.2.0",
            "_view_name": "LayoutView",
            "align_content": null,
            "align_items": null,
            "align_self": null,
            "border": null,
            "bottom": null,
            "display": null,
            "flex": null,
            "flex_flow": null,
            "grid_area": null,
            "grid_auto_columns": null,
            "grid_auto_flow": null,
            "grid_auto_rows": null,
            "grid_column": null,
            "grid_gap": null,
            "grid_row": null,
            "grid_template_areas": null,
            "grid_template_columns": null,
            "grid_template_rows": null,
            "height": null,
            "justify_content": null,
            "justify_items": null,
            "left": null,
            "margin": null,
            "max_height": null,
            "max_width": null,
            "min_height": null,
            "min_width": null,
            "object_fit": null,
            "object_position": null,
            "order": null,
            "overflow": null,
            "overflow_x": null,
            "overflow_y": null,
            "padding": null,
            "right": null,
            "top": null,
            "visibility": null,
            "width": null
          }
        },
        "9de8740e9c2a46af8339a0e468d22513": {
          "model_module": "@jupyter-widgets/controls",
          "model_name": "ProgressStyleModel",
          "model_module_version": "1.5.0",
          "state": {
            "_model_module": "@jupyter-widgets/controls",
            "_model_module_version": "1.5.0",
            "_model_name": "ProgressStyleModel",
            "_view_count": null,
            "_view_module": "@jupyter-widgets/base",
            "_view_module_version": "1.2.0",
            "_view_name": "StyleView",
            "bar_color": null,
            "description_width": ""
          }
        },
        "e5ea55e9323746ec9d75790ddcaba6f1": {
          "model_module": "@jupyter-widgets/base",
          "model_name": "LayoutModel",
          "model_module_version": "1.2.0",
          "state": {
            "_model_module": "@jupyter-widgets/base",
            "_model_module_version": "1.2.0",
            "_model_name": "LayoutModel",
            "_view_count": null,
            "_view_module": "@jupyter-widgets/base",
            "_view_module_version": "1.2.0",
            "_view_name": "LayoutView",
            "align_content": null,
            "align_items": null,
            "align_self": null,
            "border": null,
            "bottom": null,
            "display": null,
            "flex": null,
            "flex_flow": null,
            "grid_area": null,
            "grid_auto_columns": null,
            "grid_auto_flow": null,
            "grid_auto_rows": null,
            "grid_column": null,
            "grid_gap": null,
            "grid_row": null,
            "grid_template_areas": null,
            "grid_template_columns": null,
            "grid_template_rows": null,
            "height": null,
            "justify_content": null,
            "justify_items": null,
            "left": null,
            "margin": null,
            "max_height": null,
            "max_width": null,
            "min_height": null,
            "min_width": null,
            "object_fit": null,
            "object_position": null,
            "order": null,
            "overflow": null,
            "overflow_x": null,
            "overflow_y": null,
            "padding": null,
            "right": null,
            "top": null,
            "visibility": null,
            "width": null
          }
        },
        "e06fe2392c6e4319b2c8ba1c1df8135f": {
          "model_module": "@jupyter-widgets/controls",
          "model_name": "DescriptionStyleModel",
          "model_module_version": "1.5.0",
          "state": {
            "_model_module": "@jupyter-widgets/controls",
            "_model_module_version": "1.5.0",
            "_model_name": "DescriptionStyleModel",
            "_view_count": null,
            "_view_module": "@jupyter-widgets/base",
            "_view_module_version": "1.2.0",
            "_view_name": "StyleView",
            "description_width": ""
          }
        },
        "0d78654a62e242b0816db38507f7c1a6": {
          "model_module": "@jupyter-widgets/controls",
          "model_name": "HBoxModel",
          "model_module_version": "1.5.0",
          "state": {
            "_dom_classes": [],
            "_model_module": "@jupyter-widgets/controls",
            "_model_module_version": "1.5.0",
            "_model_name": "HBoxModel",
            "_view_count": null,
            "_view_module": "@jupyter-widgets/controls",
            "_view_module_version": "1.5.0",
            "_view_name": "HBoxView",
            "box_style": "",
            "children": [
              "IPY_MODEL_57cff4db450e41598144af47bc85f19b",
              "IPY_MODEL_552db5a8bcc34101ab00c71c6aed0a39",
              "IPY_MODEL_351bd127015e47a7a1751e989f7b2991"
            ],
            "layout": "IPY_MODEL_f6db408f9ae7486a8b55f25b12421594"
          }
        },
        "57cff4db450e41598144af47bc85f19b": {
          "model_module": "@jupyter-widgets/controls",
          "model_name": "HTMLModel",
          "model_module_version": "1.5.0",
          "state": {
            "_dom_classes": [],
            "_model_module": "@jupyter-widgets/controls",
            "_model_module_version": "1.5.0",
            "_model_name": "HTMLModel",
            "_view_count": null,
            "_view_module": "@jupyter-widgets/controls",
            "_view_module_version": "1.5.0",
            "_view_name": "HTMLView",
            "description": "",
            "description_tooltip": null,
            "layout": "IPY_MODEL_6d8c1247eb6247f6abe642c654732098",
            "placeholder": "​",
            "style": "IPY_MODEL_551d3e06803b47ecabe849d45e331eb5",
            "value": "afr2.txt: "
          }
        },
        "552db5a8bcc34101ab00c71c6aed0a39": {
          "model_module": "@jupyter-widgets/controls",
          "model_name": "FloatProgressModel",
          "model_module_version": "1.5.0",
          "state": {
            "_dom_classes": [],
            "_model_module": "@jupyter-widgets/controls",
            "_model_module_version": "1.5.0",
            "_model_name": "FloatProgressModel",
            "_view_count": null,
            "_view_module": "@jupyter-widgets/controls",
            "_view_module_version": "1.5.0",
            "_view_name": "ProgressView",
            "bar_style": "success",
            "description": "",
            "description_tooltip": null,
            "layout": "IPY_MODEL_fed606aed7b4426ebf7d03d7726818fd",
            "max": 1,
            "min": 0,
            "orientation": "horizontal",
            "style": "IPY_MODEL_8a139dbb21d14776a52f8155be649833",
            "value": 1
          }
        },
        "351bd127015e47a7a1751e989f7b2991": {
          "model_module": "@jupyter-widgets/controls",
          "model_name": "HTMLModel",
          "model_module_version": "1.5.0",
          "state": {
            "_dom_classes": [],
            "_model_module": "@jupyter-widgets/controls",
            "_model_module_version": "1.5.0",
            "_model_name": "HTMLModel",
            "_view_count": null,
            "_view_module": "@jupyter-widgets/controls",
            "_view_module_version": "1.5.0",
            "_view_name": "HTMLView",
            "description": "",
            "description_tooltip": null,
            "layout": "IPY_MODEL_8c73d29ad1a04711b7e9289023016152",
            "placeholder": "​",
            "style": "IPY_MODEL_15f0bf650b0843388567fef52968a8c9",
            "value": " 946k/? [00:00&lt;00:00, 12.5MB/s]"
          }
        },
        "f6db408f9ae7486a8b55f25b12421594": {
          "model_module": "@jupyter-widgets/base",
          "model_name": "LayoutModel",
          "model_module_version": "1.2.0",
          "state": {
            "_model_module": "@jupyter-widgets/base",
            "_model_module_version": "1.2.0",
            "_model_name": "LayoutModel",
            "_view_count": null,
            "_view_module": "@jupyter-widgets/base",
            "_view_module_version": "1.2.0",
            "_view_name": "LayoutView",
            "align_content": null,
            "align_items": null,
            "align_self": null,
            "border": null,
            "bottom": null,
            "display": null,
            "flex": null,
            "flex_flow": null,
            "grid_area": null,
            "grid_auto_columns": null,
            "grid_auto_flow": null,
            "grid_auto_rows": null,
            "grid_column": null,
            "grid_gap": null,
            "grid_row": null,
            "grid_template_areas": null,
            "grid_template_columns": null,
            "grid_template_rows": null,
            "height": null,
            "justify_content": null,
            "justify_items": null,
            "left": null,
            "margin": null,
            "max_height": null,
            "max_width": null,
            "min_height": null,
            "min_width": null,
            "object_fit": null,
            "object_position": null,
            "order": null,
            "overflow": null,
            "overflow_x": null,
            "overflow_y": null,
            "padding": null,
            "right": null,
            "top": null,
            "visibility": null,
            "width": null
          }
        },
        "6d8c1247eb6247f6abe642c654732098": {
          "model_module": "@jupyter-widgets/base",
          "model_name": "LayoutModel",
          "model_module_version": "1.2.0",
          "state": {
            "_model_module": "@jupyter-widgets/base",
            "_model_module_version": "1.2.0",
            "_model_name": "LayoutModel",
            "_view_count": null,
            "_view_module": "@jupyter-widgets/base",
            "_view_module_version": "1.2.0",
            "_view_name": "LayoutView",
            "align_content": null,
            "align_items": null,
            "align_self": null,
            "border": null,
            "bottom": null,
            "display": null,
            "flex": null,
            "flex_flow": null,
            "grid_area": null,
            "grid_auto_columns": null,
            "grid_auto_flow": null,
            "grid_auto_rows": null,
            "grid_column": null,
            "grid_gap": null,
            "grid_row": null,
            "grid_template_areas": null,
            "grid_template_columns": null,
            "grid_template_rows": null,
            "height": null,
            "justify_content": null,
            "justify_items": null,
            "left": null,
            "margin": null,
            "max_height": null,
            "max_width": null,
            "min_height": null,
            "min_width": null,
            "object_fit": null,
            "object_position": null,
            "order": null,
            "overflow": null,
            "overflow_x": null,
            "overflow_y": null,
            "padding": null,
            "right": null,
            "top": null,
            "visibility": null,
            "width": null
          }
        },
        "551d3e06803b47ecabe849d45e331eb5": {
          "model_module": "@jupyter-widgets/controls",
          "model_name": "DescriptionStyleModel",
          "model_module_version": "1.5.0",
          "state": {
            "_model_module": "@jupyter-widgets/controls",
            "_model_module_version": "1.5.0",
            "_model_name": "DescriptionStyleModel",
            "_view_count": null,
            "_view_module": "@jupyter-widgets/base",
            "_view_module_version": "1.2.0",
            "_view_name": "StyleView",
            "description_width": ""
          }
        },
        "fed606aed7b4426ebf7d03d7726818fd": {
          "model_module": "@jupyter-widgets/base",
          "model_name": "LayoutModel",
          "model_module_version": "1.2.0",
          "state": {
            "_model_module": "@jupyter-widgets/base",
            "_model_module_version": "1.2.0",
            "_model_name": "LayoutModel",
            "_view_count": null,
            "_view_module": "@jupyter-widgets/base",
            "_view_module_version": "1.2.0",
            "_view_name": "LayoutView",
            "align_content": null,
            "align_items": null,
            "align_self": null,
            "border": null,
            "bottom": null,
            "display": null,
            "flex": null,
            "flex_flow": null,
            "grid_area": null,
            "grid_auto_columns": null,
            "grid_auto_flow": null,
            "grid_auto_rows": null,
            "grid_column": null,
            "grid_gap": null,
            "grid_row": null,
            "grid_template_areas": null,
            "grid_template_columns": null,
            "grid_template_rows": null,
            "height": null,
            "justify_content": null,
            "justify_items": null,
            "left": null,
            "margin": null,
            "max_height": null,
            "max_width": null,
            "min_height": null,
            "min_width": null,
            "object_fit": null,
            "object_position": null,
            "order": null,
            "overflow": null,
            "overflow_x": null,
            "overflow_y": null,
            "padding": null,
            "right": null,
            "top": null,
            "visibility": null,
            "width": "20px"
          }
        },
        "8a139dbb21d14776a52f8155be649833": {
          "model_module": "@jupyter-widgets/controls",
          "model_name": "ProgressStyleModel",
          "model_module_version": "1.5.0",
          "state": {
            "_model_module": "@jupyter-widgets/controls",
            "_model_module_version": "1.5.0",
            "_model_name": "ProgressStyleModel",
            "_view_count": null,
            "_view_module": "@jupyter-widgets/base",
            "_view_module_version": "1.2.0",
            "_view_name": "StyleView",
            "bar_color": null,
            "description_width": ""
          }
        },
        "8c73d29ad1a04711b7e9289023016152": {
          "model_module": "@jupyter-widgets/base",
          "model_name": "LayoutModel",
          "model_module_version": "1.2.0",
          "state": {
            "_model_module": "@jupyter-widgets/base",
            "_model_module_version": "1.2.0",
            "_model_name": "LayoutModel",
            "_view_count": null,
            "_view_module": "@jupyter-widgets/base",
            "_view_module_version": "1.2.0",
            "_view_name": "LayoutView",
            "align_content": null,
            "align_items": null,
            "align_self": null,
            "border": null,
            "bottom": null,
            "display": null,
            "flex": null,
            "flex_flow": null,
            "grid_area": null,
            "grid_auto_columns": null,
            "grid_auto_flow": null,
            "grid_auto_rows": null,
            "grid_column": null,
            "grid_gap": null,
            "grid_row": null,
            "grid_template_areas": null,
            "grid_template_columns": null,
            "grid_template_rows": null,
            "height": null,
            "justify_content": null,
            "justify_items": null,
            "left": null,
            "margin": null,
            "max_height": null,
            "max_width": null,
            "min_height": null,
            "min_width": null,
            "object_fit": null,
            "object_position": null,
            "order": null,
            "overflow": null,
            "overflow_x": null,
            "overflow_y": null,
            "padding": null,
            "right": null,
            "top": null,
            "visibility": null,
            "width": null
          }
        },
        "15f0bf650b0843388567fef52968a8c9": {
          "model_module": "@jupyter-widgets/controls",
          "model_name": "DescriptionStyleModel",
          "model_module_version": "1.5.0",
          "state": {
            "_model_module": "@jupyter-widgets/controls",
            "_model_module_version": "1.5.0",
            "_model_name": "DescriptionStyleModel",
            "_view_count": null,
            "_view_module": "@jupyter-widgets/base",
            "_view_module_version": "1.2.0",
            "_view_name": "StyleView",
            "description_width": ""
          }
        },
        "9439d4e93e61498798191a1afa3658dd": {
          "model_module": "@jupyter-widgets/controls",
          "model_name": "HBoxModel",
          "model_module_version": "1.5.0",
          "state": {
            "_dom_classes": [],
            "_model_module": "@jupyter-widgets/controls",
            "_model_module_version": "1.5.0",
            "_model_name": "HBoxModel",
            "_view_count": null,
            "_view_module": "@jupyter-widgets/controls",
            "_view_module_version": "1.5.0",
            "_view_name": "HBoxView",
            "box_style": "",
            "children": [
              "IPY_MODEL_91d2f6be9d314428aab8d1d9b5fd1e73",
              "IPY_MODEL_69731e6217174413b955a630b0fe699d",
              "IPY_MODEL_90da52cc28964b3c961e361c2c93a469"
            ],
            "layout": "IPY_MODEL_43ad160eb3fa44ea9906db9b675095e9"
          }
        },
        "91d2f6be9d314428aab8d1d9b5fd1e73": {
          "model_module": "@jupyter-widgets/controls",
          "model_name": "HTMLModel",
          "model_module_version": "1.5.0",
          "state": {
            "_dom_classes": [],
            "_model_module": "@jupyter-widgets/controls",
            "_model_module_version": "1.5.0",
            "_model_name": "HTMLModel",
            "_view_count": null,
            "_view_module": "@jupyter-widgets/controls",
            "_view_module_version": "1.5.0",
            "_view_name": "HTMLView",
            "description": "",
            "description_tooltip": null,
            "layout": "IPY_MODEL_61bf8f5abcbc4771898d59d62bcf4cb7",
            "placeholder": "​",
            "style": "IPY_MODEL_812221895e004a4a9d734df128af6b26",
            "value": "Generating train split: 100%"
          }
        },
        "69731e6217174413b955a630b0fe699d": {
          "model_module": "@jupyter-widgets/controls",
          "model_name": "FloatProgressModel",
          "model_module_version": "1.5.0",
          "state": {
            "_dom_classes": [],
            "_model_module": "@jupyter-widgets/controls",
            "_model_module_version": "1.5.0",
            "_model_name": "FloatProgressModel",
            "_view_count": null,
            "_view_module": "@jupyter-widgets/controls",
            "_view_module_version": "1.5.0",
            "_view_name": "ProgressView",
            "bar_style": "success",
            "description": "",
            "description_tooltip": null,
            "layout": "IPY_MODEL_23c68e9eeb304f3aa0cda7af73b1d195",
            "max": 10000,
            "min": 0,
            "orientation": "horizontal",
            "style": "IPY_MODEL_dcb2daf202224da1a7710e73da44e69f",
            "value": 10000
          }
        },
        "90da52cc28964b3c961e361c2c93a469": {
          "model_module": "@jupyter-widgets/controls",
          "model_name": "HTMLModel",
          "model_module_version": "1.5.0",
          "state": {
            "_dom_classes": [],
            "_model_module": "@jupyter-widgets/controls",
            "_model_module_version": "1.5.0",
            "_model_name": "HTMLModel",
            "_view_count": null,
            "_view_module": "@jupyter-widgets/controls",
            "_view_module_version": "1.5.0",
            "_view_name": "HTMLView",
            "description": "",
            "description_tooltip": null,
            "layout": "IPY_MODEL_8bb5fd3bf0f64c318e9e9cbbbbc89719",
            "placeholder": "​",
            "style": "IPY_MODEL_07ff8e9965a549baad6558a6f5e1c1b0",
            "value": " 10000/10000 [00:00&lt;00:00, 231705.18 examples/s]"
          }
        },
        "43ad160eb3fa44ea9906db9b675095e9": {
          "model_module": "@jupyter-widgets/base",
          "model_name": "LayoutModel",
          "model_module_version": "1.2.0",
          "state": {
            "_model_module": "@jupyter-widgets/base",
            "_model_module_version": "1.2.0",
            "_model_name": "LayoutModel",
            "_view_count": null,
            "_view_module": "@jupyter-widgets/base",
            "_view_module_version": "1.2.0",
            "_view_name": "LayoutView",
            "align_content": null,
            "align_items": null,
            "align_self": null,
            "border": null,
            "bottom": null,
            "display": null,
            "flex": null,
            "flex_flow": null,
            "grid_area": null,
            "grid_auto_columns": null,
            "grid_auto_flow": null,
            "grid_auto_rows": null,
            "grid_column": null,
            "grid_gap": null,
            "grid_row": null,
            "grid_template_areas": null,
            "grid_template_columns": null,
            "grid_template_rows": null,
            "height": null,
            "justify_content": null,
            "justify_items": null,
            "left": null,
            "margin": null,
            "max_height": null,
            "max_width": null,
            "min_height": null,
            "min_width": null,
            "object_fit": null,
            "object_position": null,
            "order": null,
            "overflow": null,
            "overflow_x": null,
            "overflow_y": null,
            "padding": null,
            "right": null,
            "top": null,
            "visibility": null,
            "width": null
          }
        },
        "61bf8f5abcbc4771898d59d62bcf4cb7": {
          "model_module": "@jupyter-widgets/base",
          "model_name": "LayoutModel",
          "model_module_version": "1.2.0",
          "state": {
            "_model_module": "@jupyter-widgets/base",
            "_model_module_version": "1.2.0",
            "_model_name": "LayoutModel",
            "_view_count": null,
            "_view_module": "@jupyter-widgets/base",
            "_view_module_version": "1.2.0",
            "_view_name": "LayoutView",
            "align_content": null,
            "align_items": null,
            "align_self": null,
            "border": null,
            "bottom": null,
            "display": null,
            "flex": null,
            "flex_flow": null,
            "grid_area": null,
            "grid_auto_columns": null,
            "grid_auto_flow": null,
            "grid_auto_rows": null,
            "grid_column": null,
            "grid_gap": null,
            "grid_row": null,
            "grid_template_areas": null,
            "grid_template_columns": null,
            "grid_template_rows": null,
            "height": null,
            "justify_content": null,
            "justify_items": null,
            "left": null,
            "margin": null,
            "max_height": null,
            "max_width": null,
            "min_height": null,
            "min_width": null,
            "object_fit": null,
            "object_position": null,
            "order": null,
            "overflow": null,
            "overflow_x": null,
            "overflow_y": null,
            "padding": null,
            "right": null,
            "top": null,
            "visibility": null,
            "width": null
          }
        },
        "812221895e004a4a9d734df128af6b26": {
          "model_module": "@jupyter-widgets/controls",
          "model_name": "DescriptionStyleModel",
          "model_module_version": "1.5.0",
          "state": {
            "_model_module": "@jupyter-widgets/controls",
            "_model_module_version": "1.5.0",
            "_model_name": "DescriptionStyleModel",
            "_view_count": null,
            "_view_module": "@jupyter-widgets/base",
            "_view_module_version": "1.2.0",
            "_view_name": "StyleView",
            "description_width": ""
          }
        },
        "23c68e9eeb304f3aa0cda7af73b1d195": {
          "model_module": "@jupyter-widgets/base",
          "model_name": "LayoutModel",
          "model_module_version": "1.2.0",
          "state": {
            "_model_module": "@jupyter-widgets/base",
            "_model_module_version": "1.2.0",
            "_model_name": "LayoutModel",
            "_view_count": null,
            "_view_module": "@jupyter-widgets/base",
            "_view_module_version": "1.2.0",
            "_view_name": "LayoutView",
            "align_content": null,
            "align_items": null,
            "align_self": null,
            "border": null,
            "bottom": null,
            "display": null,
            "flex": null,
            "flex_flow": null,
            "grid_area": null,
            "grid_auto_columns": null,
            "grid_auto_flow": null,
            "grid_auto_rows": null,
            "grid_column": null,
            "grid_gap": null,
            "grid_row": null,
            "grid_template_areas": null,
            "grid_template_columns": null,
            "grid_template_rows": null,
            "height": null,
            "justify_content": null,
            "justify_items": null,
            "left": null,
            "margin": null,
            "max_height": null,
            "max_width": null,
            "min_height": null,
            "min_width": null,
            "object_fit": null,
            "object_position": null,
            "order": null,
            "overflow": null,
            "overflow_x": null,
            "overflow_y": null,
            "padding": null,
            "right": null,
            "top": null,
            "visibility": null,
            "width": null
          }
        },
        "dcb2daf202224da1a7710e73da44e69f": {
          "model_module": "@jupyter-widgets/controls",
          "model_name": "ProgressStyleModel",
          "model_module_version": "1.5.0",
          "state": {
            "_model_module": "@jupyter-widgets/controls",
            "_model_module_version": "1.5.0",
            "_model_name": "ProgressStyleModel",
            "_view_count": null,
            "_view_module": "@jupyter-widgets/base",
            "_view_module_version": "1.2.0",
            "_view_name": "StyleView",
            "bar_color": null,
            "description_width": ""
          }
        },
        "8bb5fd3bf0f64c318e9e9cbbbbc89719": {
          "model_module": "@jupyter-widgets/base",
          "model_name": "LayoutModel",
          "model_module_version": "1.2.0",
          "state": {
            "_model_module": "@jupyter-widgets/base",
            "_model_module_version": "1.2.0",
            "_model_name": "LayoutModel",
            "_view_count": null,
            "_view_module": "@jupyter-widgets/base",
            "_view_module_version": "1.2.0",
            "_view_name": "LayoutView",
            "align_content": null,
            "align_items": null,
            "align_self": null,
            "border": null,
            "bottom": null,
            "display": null,
            "flex": null,
            "flex_flow": null,
            "grid_area": null,
            "grid_auto_columns": null,
            "grid_auto_flow": null,
            "grid_auto_rows": null,
            "grid_column": null,
            "grid_gap": null,
            "grid_row": null,
            "grid_template_areas": null,
            "grid_template_columns": null,
            "grid_template_rows": null,
            "height": null,
            "justify_content": null,
            "justify_items": null,
            "left": null,
            "margin": null,
            "max_height": null,
            "max_width": null,
            "min_height": null,
            "min_width": null,
            "object_fit": null,
            "object_position": null,
            "order": null,
            "overflow": null,
            "overflow_x": null,
            "overflow_y": null,
            "padding": null,
            "right": null,
            "top": null,
            "visibility": null,
            "width": null
          }
        },
        "07ff8e9965a549baad6558a6f5e1c1b0": {
          "model_module": "@jupyter-widgets/controls",
          "model_name": "DescriptionStyleModel",
          "model_module_version": "1.5.0",
          "state": {
            "_model_module": "@jupyter-widgets/controls",
            "_model_module_version": "1.5.0",
            "_model_name": "DescriptionStyleModel",
            "_view_count": null,
            "_view_module": "@jupyter-widgets/base",
            "_view_module_version": "1.2.0",
            "_view_name": "StyleView",
            "description_width": ""
          }
        }
      }
    }
  },
  "nbformat": 4,
  "nbformat_minor": 5
}